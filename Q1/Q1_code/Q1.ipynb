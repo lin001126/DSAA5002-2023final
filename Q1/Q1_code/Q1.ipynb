{
 "cells": [
  {
   "cell_type": "markdown",
   "source": [
    "Read data"
   ],
   "metadata": {
    "collapsed": false
   },
   "id": "141ab43089e4593a"
  },
  {
   "cell_type": "markdown",
   "source": [],
   "metadata": {
    "collapsed": false
   },
   "id": "4766b035a2a12504"
  },
  {
   "cell_type": "markdown",
   "source": [
    "https://towardsdatascience.com/time-series-of-price-anomaly-detection-with-lstm-11a12ba4f6d9\n",
    "https://zhuanlan.zhihu.com/p/142320349"
   ],
   "metadata": {
    "collapsed": false
   },
   "id": "1d447b28c5ee58d9"
  },
  {
   "cell_type": "code",
   "execution_count": 1,
   "id": "initial_id",
   "metadata": {
    "collapsed": true,
    "ExecuteTime": {
     "end_time": "2023-12-15T10:26:43.538882500Z",
     "start_time": "2023-12-15T10:26:40.900738700Z"
    }
   },
   "outputs": [
    {
     "data": {
      "text/plain": "                x          y          z  a  b  c  d  Is_Falling\n0       18.495860  13.766527  14.362624  0  0  0  1           0\n1       18.501072  13.827225  14.270268  0  0  1  0           0\n2       18.405950  13.868976  14.094804  1  0  0  0           0\n3       18.444572  13.910701  14.116078  0  1  0  0           0\n4       18.418470  13.933917  14.320566  0  0  0  1           0\n...           ...        ...        ... .. .. .. ..         ...\n134224  23.367303  15.457298  11.470211  0  0  1  0           0\n134225  23.345435  15.475442  11.314662  0  1  0  0           0\n134226  23.323040  15.439008  11.634412  0  0  0  1           0\n134227  23.287241  15.447851  11.501362  0  0  1  0           0\n134228  23.255992  15.421906  11.342717  0  1  0  0           0\n\n[134229 rows x 8 columns]",
      "text/html": "<div>\n<style scoped>\n    .dataframe tbody tr th:only-of-type {\n        vertical-align: middle;\n    }\n\n    .dataframe tbody tr th {\n        vertical-align: top;\n    }\n\n    .dataframe thead th {\n        text-align: right;\n    }\n</style>\n<table border=\"1\" class=\"dataframe\">\n  <thead>\n    <tr style=\"text-align: right;\">\n      <th></th>\n      <th>x</th>\n      <th>y</th>\n      <th>z</th>\n      <th>a</th>\n      <th>b</th>\n      <th>c</th>\n      <th>d</th>\n      <th>Is_Falling</th>\n    </tr>\n  </thead>\n  <tbody>\n    <tr>\n      <th>0</th>\n      <td>18.495860</td>\n      <td>13.766527</td>\n      <td>14.362624</td>\n      <td>0</td>\n      <td>0</td>\n      <td>0</td>\n      <td>1</td>\n      <td>0</td>\n    </tr>\n    <tr>\n      <th>1</th>\n      <td>18.501072</td>\n      <td>13.827225</td>\n      <td>14.270268</td>\n      <td>0</td>\n      <td>0</td>\n      <td>1</td>\n      <td>0</td>\n      <td>0</td>\n    </tr>\n    <tr>\n      <th>2</th>\n      <td>18.405950</td>\n      <td>13.868976</td>\n      <td>14.094804</td>\n      <td>1</td>\n      <td>0</td>\n      <td>0</td>\n      <td>0</td>\n      <td>0</td>\n    </tr>\n    <tr>\n      <th>3</th>\n      <td>18.444572</td>\n      <td>13.910701</td>\n      <td>14.116078</td>\n      <td>0</td>\n      <td>1</td>\n      <td>0</td>\n      <td>0</td>\n      <td>0</td>\n    </tr>\n    <tr>\n      <th>4</th>\n      <td>18.418470</td>\n      <td>13.933917</td>\n      <td>14.320566</td>\n      <td>0</td>\n      <td>0</td>\n      <td>0</td>\n      <td>1</td>\n      <td>0</td>\n    </tr>\n    <tr>\n      <th>...</th>\n      <td>...</td>\n      <td>...</td>\n      <td>...</td>\n      <td>...</td>\n      <td>...</td>\n      <td>...</td>\n      <td>...</td>\n      <td>...</td>\n    </tr>\n    <tr>\n      <th>134224</th>\n      <td>23.367303</td>\n      <td>15.457298</td>\n      <td>11.470211</td>\n      <td>0</td>\n      <td>0</td>\n      <td>1</td>\n      <td>0</td>\n      <td>0</td>\n    </tr>\n    <tr>\n      <th>134225</th>\n      <td>23.345435</td>\n      <td>15.475442</td>\n      <td>11.314662</td>\n      <td>0</td>\n      <td>1</td>\n      <td>0</td>\n      <td>0</td>\n      <td>0</td>\n    </tr>\n    <tr>\n      <th>134226</th>\n      <td>23.323040</td>\n      <td>15.439008</td>\n      <td>11.634412</td>\n      <td>0</td>\n      <td>0</td>\n      <td>0</td>\n      <td>1</td>\n      <td>0</td>\n    </tr>\n    <tr>\n      <th>134227</th>\n      <td>23.287241</td>\n      <td>15.447851</td>\n      <td>11.501362</td>\n      <td>0</td>\n      <td>0</td>\n      <td>1</td>\n      <td>0</td>\n      <td>0</td>\n    </tr>\n    <tr>\n      <th>134228</th>\n      <td>23.255992</td>\n      <td>15.421906</td>\n      <td>11.342717</td>\n      <td>0</td>\n      <td>1</td>\n      <td>0</td>\n      <td>0</td>\n      <td>0</td>\n    </tr>\n  </tbody>\n</table>\n<p>134229 rows × 8 columns</p>\n</div>"
     },
     "execution_count": 1,
     "metadata": {},
     "output_type": "execute_result"
    }
   ],
   "source": [
    "import os\n",
    "import pandas as pd\n",
    "\n",
    "filepath = \"../Data_Q1/train\"\n",
    "\n",
    "df = pd.DataFrame()\n",
    "\n",
    "for i in range(20): \n",
    "    file_name = f\"data_{i}.csv\"\n",
    "    file_path = os.path.join(filepath, file_name) \n",
    "    data = pd.read_csv(file_path)\n",
    "    df = pd.concat([df, data], ignore_index=True)\n",
    "\n",
    "# print(df.head())\n",
    "df"
   ]
  },
  {
   "cell_type": "code",
   "execution_count": 2,
   "outputs": [],
   "source": [
    "testdata = pd.read_csv('../Data_Q1/test/test_set.csv')"
   ],
   "metadata": {
    "collapsed": false,
    "ExecuteTime": {
     "end_time": "2023-12-15T10:26:43.600883300Z",
     "start_time": "2023-12-15T10:26:43.526372900Z"
    }
   },
   "id": "c5298ad303e29c9d"
  },
  {
   "cell_type": "markdown",
   "source": [
    "Detect and fill in missing values"
   ],
   "metadata": {
    "collapsed": false
   },
   "id": "cb6440ab1465efc4"
  },
  {
   "cell_type": "code",
   "execution_count": 3,
   "outputs": [],
   "source": [
    "\n",
    "for col in ['x', 'y', 'z']:\n",
    "    if df[col].isnull().any():\n",
    "        df[col].fillna(df[col].mean(), inplace=True)\n",
    "\n",
    "for col in ['a', 'b', 'c', 'd']:\n",
    "    if df[col].isnull().any():\n",
    "        df[col].fillna(method='ffill', inplace=True)\n"
   ],
   "metadata": {
    "collapsed": false,
    "ExecuteTime": {
     "end_time": "2023-12-15T10:26:43.606883100Z",
     "start_time": "2023-12-15T10:26:43.556882600Z"
    }
   },
   "id": "2d32b3d3c395daab"
  },
  {
   "cell_type": "markdown",
   "source": [
    "## Feature engineering"
   ],
   "metadata": {
    "collapsed": false
   },
   "id": "235e6363f907b7f7"
  },
  {
   "cell_type": "code",
   "execution_count": 4,
   "outputs": [
    {
     "data": {
      "text/plain": "               x         y         z  a  b  c  d  Is_Falling    x_mean  \\\n0       1.371850  0.584813  1.475836  0  0  0  1           0  1.349051   \n1       1.373198  0.607249  1.430084  0  0  1  0           0  1.349051   \n2       1.348606  0.622682  1.343162  1  0  0  0           0  1.349051   \n3       1.358591  0.638104  1.353701  0  1  0  0           0  1.349051   \n4       1.351843  0.646686  1.455002  0  0  0  1           0  1.349051   \n...          ...       ...       ... .. .. .. ..         ...       ...   \n134224  2.631264  1.209772  0.042976  0  0  1  0           0  2.643493   \n134225  2.625611  1.216479 -0.034080  0  1  0  0           0  2.644575   \n134226  2.619821  1.203012  0.124319  0  0  0  1           0  2.645587   \n134227  2.610566  1.206280  0.058408  0  0  1  0           0  2.645762   \n134228  2.602487  1.196690 -0.020183  0  1  0  0           0  2.644937   \n\n          y_mean    z_mean     x_std     y_std     z_std  \n0       0.710981  1.503748 -0.667437 -0.270870 -0.015808  \n1       0.710981  1.503748 -0.667437 -0.270870 -0.015808  \n2       0.710981  1.503748 -0.667437 -0.270870 -0.015808  \n3       0.710981  1.503748 -0.667437 -0.270870 -0.015808  \n4       0.710981  1.503748 -0.667437 -0.270870 -0.015808  \n...          ...       ...       ...       ...       ...  \n134224  1.283592 -0.043996 -0.640276  0.116545 -0.335021  \n134225  1.277411 -0.042743 -0.664754  0.089113 -0.336858  \n134226  1.270309 -0.034408 -0.698732  0.048402 -0.234391  \n134227  1.263101 -0.028606 -0.705175 -0.017255 -0.214386  \n134228  1.256442 -0.029400 -0.681392 -0.063127 -0.217233  \n\n[134229 rows x 14 columns]",
      "text/html": "<div>\n<style scoped>\n    .dataframe tbody tr th:only-of-type {\n        vertical-align: middle;\n    }\n\n    .dataframe tbody tr th {\n        vertical-align: top;\n    }\n\n    .dataframe thead th {\n        text-align: right;\n    }\n</style>\n<table border=\"1\" class=\"dataframe\">\n  <thead>\n    <tr style=\"text-align: right;\">\n      <th></th>\n      <th>x</th>\n      <th>y</th>\n      <th>z</th>\n      <th>a</th>\n      <th>b</th>\n      <th>c</th>\n      <th>d</th>\n      <th>Is_Falling</th>\n      <th>x_mean</th>\n      <th>y_mean</th>\n      <th>z_mean</th>\n      <th>x_std</th>\n      <th>y_std</th>\n      <th>z_std</th>\n    </tr>\n  </thead>\n  <tbody>\n    <tr>\n      <th>0</th>\n      <td>1.371850</td>\n      <td>0.584813</td>\n      <td>1.475836</td>\n      <td>0</td>\n      <td>0</td>\n      <td>0</td>\n      <td>1</td>\n      <td>0</td>\n      <td>1.349051</td>\n      <td>0.710981</td>\n      <td>1.503748</td>\n      <td>-0.667437</td>\n      <td>-0.270870</td>\n      <td>-0.015808</td>\n    </tr>\n    <tr>\n      <th>1</th>\n      <td>1.373198</td>\n      <td>0.607249</td>\n      <td>1.430084</td>\n      <td>0</td>\n      <td>0</td>\n      <td>1</td>\n      <td>0</td>\n      <td>0</td>\n      <td>1.349051</td>\n      <td>0.710981</td>\n      <td>1.503748</td>\n      <td>-0.667437</td>\n      <td>-0.270870</td>\n      <td>-0.015808</td>\n    </tr>\n    <tr>\n      <th>2</th>\n      <td>1.348606</td>\n      <td>0.622682</td>\n      <td>1.343162</td>\n      <td>1</td>\n      <td>0</td>\n      <td>0</td>\n      <td>0</td>\n      <td>0</td>\n      <td>1.349051</td>\n      <td>0.710981</td>\n      <td>1.503748</td>\n      <td>-0.667437</td>\n      <td>-0.270870</td>\n      <td>-0.015808</td>\n    </tr>\n    <tr>\n      <th>3</th>\n      <td>1.358591</td>\n      <td>0.638104</td>\n      <td>1.353701</td>\n      <td>0</td>\n      <td>1</td>\n      <td>0</td>\n      <td>0</td>\n      <td>0</td>\n      <td>1.349051</td>\n      <td>0.710981</td>\n      <td>1.503748</td>\n      <td>-0.667437</td>\n      <td>-0.270870</td>\n      <td>-0.015808</td>\n    </tr>\n    <tr>\n      <th>4</th>\n      <td>1.351843</td>\n      <td>0.646686</td>\n      <td>1.455002</td>\n      <td>0</td>\n      <td>0</td>\n      <td>0</td>\n      <td>1</td>\n      <td>0</td>\n      <td>1.349051</td>\n      <td>0.710981</td>\n      <td>1.503748</td>\n      <td>-0.667437</td>\n      <td>-0.270870</td>\n      <td>-0.015808</td>\n    </tr>\n    <tr>\n      <th>...</th>\n      <td>...</td>\n      <td>...</td>\n      <td>...</td>\n      <td>...</td>\n      <td>...</td>\n      <td>...</td>\n      <td>...</td>\n      <td>...</td>\n      <td>...</td>\n      <td>...</td>\n      <td>...</td>\n      <td>...</td>\n      <td>...</td>\n      <td>...</td>\n    </tr>\n    <tr>\n      <th>134224</th>\n      <td>2.631264</td>\n      <td>1.209772</td>\n      <td>0.042976</td>\n      <td>0</td>\n      <td>0</td>\n      <td>1</td>\n      <td>0</td>\n      <td>0</td>\n      <td>2.643493</td>\n      <td>1.283592</td>\n      <td>-0.043996</td>\n      <td>-0.640276</td>\n      <td>0.116545</td>\n      <td>-0.335021</td>\n    </tr>\n    <tr>\n      <th>134225</th>\n      <td>2.625611</td>\n      <td>1.216479</td>\n      <td>-0.034080</td>\n      <td>0</td>\n      <td>1</td>\n      <td>0</td>\n      <td>0</td>\n      <td>0</td>\n      <td>2.644575</td>\n      <td>1.277411</td>\n      <td>-0.042743</td>\n      <td>-0.664754</td>\n      <td>0.089113</td>\n      <td>-0.336858</td>\n    </tr>\n    <tr>\n      <th>134226</th>\n      <td>2.619821</td>\n      <td>1.203012</td>\n      <td>0.124319</td>\n      <td>0</td>\n      <td>0</td>\n      <td>0</td>\n      <td>1</td>\n      <td>0</td>\n      <td>2.645587</td>\n      <td>1.270309</td>\n      <td>-0.034408</td>\n      <td>-0.698732</td>\n      <td>0.048402</td>\n      <td>-0.234391</td>\n    </tr>\n    <tr>\n      <th>134227</th>\n      <td>2.610566</td>\n      <td>1.206280</td>\n      <td>0.058408</td>\n      <td>0</td>\n      <td>0</td>\n      <td>1</td>\n      <td>0</td>\n      <td>0</td>\n      <td>2.645762</td>\n      <td>1.263101</td>\n      <td>-0.028606</td>\n      <td>-0.705175</td>\n      <td>-0.017255</td>\n      <td>-0.214386</td>\n    </tr>\n    <tr>\n      <th>134228</th>\n      <td>2.602487</td>\n      <td>1.196690</td>\n      <td>-0.020183</td>\n      <td>0</td>\n      <td>1</td>\n      <td>0</td>\n      <td>0</td>\n      <td>0</td>\n      <td>2.644937</td>\n      <td>1.256442</td>\n      <td>-0.029400</td>\n      <td>-0.681392</td>\n      <td>-0.063127</td>\n      <td>-0.217233</td>\n    </tr>\n  </tbody>\n</table>\n<p>134229 rows × 14 columns</p>\n</div>"
     },
     "execution_count": 4,
     "metadata": {},
     "output_type": "execute_result"
    }
   ],
   "source": [
    "# Sliding window method to calculate statistical features\n",
    "window_size = 25  \n",
    "\n",
    "# mean&std\n",
    "rolling_features = df[['x', 'y', 'z']].rolling(window=window_size)\n",
    "df['x_mean'] = rolling_features.mean()['x']\n",
    "df['y_mean'] = rolling_features.mean()['y']\n",
    "df['z_mean'] = rolling_features.mean()['z']\n",
    "df['x_std'] = rolling_features.std()['x']\n",
    "df['y_std'] = rolling_features.std()['y']\n",
    "df['z_std'] = rolling_features.std()['z']\n",
    "\n",
    "# Fill the starting NaN value of the sliding window\n",
    "df.fillna(method='bfill', inplace=True)\n",
    "\n",
    "# scaler\n",
    "from sklearn.preprocessing import StandardScaler\n",
    "\n",
    "scaler = StandardScaler()\n",
    "columns_to_scale = ['x', 'y', 'z', 'x_mean', 'y_mean', 'z_mean', 'x_std', 'y_std', 'z_std']\n",
    "df[columns_to_scale] = scaler.fit_transform(df[columns_to_scale])\n",
    "\n",
    "\n",
    "df\n",
    "\n"
   ],
   "metadata": {
    "collapsed": false,
    "ExecuteTime": {
     "end_time": "2023-12-15T10:26:45.838331Z",
     "start_time": "2023-12-15T10:26:43.571883500Z"
    }
   },
   "id": "2e7087fd514dd90e"
  },
  {
   "cell_type": "code",
   "execution_count": 5,
   "outputs": [
    {
     "data": {
      "text/plain": "          x         y         z  a  b  c  d  Is_Falling    x_mean    y_mean  \\\n0  1.371850  0.584813  1.475836  0  0  0  1           0  1.349051  0.710981   \n1  1.373198  0.607249  1.430084  0  0  1  0           0  1.349051  0.710981   \n2  1.348606  0.622682  1.343162  1  0  0  0           0  1.349051  0.710981   \n3  1.358591  0.638104  1.353701  0  1  0  0           0  1.349051  0.710981   \n4  1.351843  0.646686  1.455002  0  0  0  1           0  1.349051  0.710981   \n\n     z_mean     x_std    y_std     z_std  x_change  y_change  z_change  \\\n0  1.503748 -0.667437 -0.27087 -0.015808  0.000000  0.000000  0.000000   \n1  1.503748 -0.667437 -0.27087 -0.015808  0.001348  0.022436 -0.045752   \n2  1.503748 -0.667437 -0.27087 -0.015808 -0.024592  0.015432 -0.086922   \n3  1.503748 -0.667437 -0.27087 -0.015808  0.009985  0.015423  0.010539   \n4  1.503748 -0.667437 -0.27087 -0.015808 -0.006748  0.008581  0.101300   \n\n   fall_duration  normal_duration  is_peak  \n0              0                0        0  \n1              1                0        0  \n2              2                0        0  \n3              3                0        0  \n4              4                0        0  ",
      "text/html": "<div>\n<style scoped>\n    .dataframe tbody tr th:only-of-type {\n        vertical-align: middle;\n    }\n\n    .dataframe tbody tr th {\n        vertical-align: top;\n    }\n\n    .dataframe thead th {\n        text-align: right;\n    }\n</style>\n<table border=\"1\" class=\"dataframe\">\n  <thead>\n    <tr style=\"text-align: right;\">\n      <th></th>\n      <th>x</th>\n      <th>y</th>\n      <th>z</th>\n      <th>a</th>\n      <th>b</th>\n      <th>c</th>\n      <th>d</th>\n      <th>Is_Falling</th>\n      <th>x_mean</th>\n      <th>y_mean</th>\n      <th>z_mean</th>\n      <th>x_std</th>\n      <th>y_std</th>\n      <th>z_std</th>\n      <th>x_change</th>\n      <th>y_change</th>\n      <th>z_change</th>\n      <th>fall_duration</th>\n      <th>normal_duration</th>\n      <th>is_peak</th>\n    </tr>\n  </thead>\n  <tbody>\n    <tr>\n      <th>0</th>\n      <td>1.371850</td>\n      <td>0.584813</td>\n      <td>1.475836</td>\n      <td>0</td>\n      <td>0</td>\n      <td>0</td>\n      <td>1</td>\n      <td>0</td>\n      <td>1.349051</td>\n      <td>0.710981</td>\n      <td>1.503748</td>\n      <td>-0.667437</td>\n      <td>-0.27087</td>\n      <td>-0.015808</td>\n      <td>0.000000</td>\n      <td>0.000000</td>\n      <td>0.000000</td>\n      <td>0</td>\n      <td>0</td>\n      <td>0</td>\n    </tr>\n    <tr>\n      <th>1</th>\n      <td>1.373198</td>\n      <td>0.607249</td>\n      <td>1.430084</td>\n      <td>0</td>\n      <td>0</td>\n      <td>1</td>\n      <td>0</td>\n      <td>0</td>\n      <td>1.349051</td>\n      <td>0.710981</td>\n      <td>1.503748</td>\n      <td>-0.667437</td>\n      <td>-0.27087</td>\n      <td>-0.015808</td>\n      <td>0.001348</td>\n      <td>0.022436</td>\n      <td>-0.045752</td>\n      <td>1</td>\n      <td>0</td>\n      <td>0</td>\n    </tr>\n    <tr>\n      <th>2</th>\n      <td>1.348606</td>\n      <td>0.622682</td>\n      <td>1.343162</td>\n      <td>1</td>\n      <td>0</td>\n      <td>0</td>\n      <td>0</td>\n      <td>0</td>\n      <td>1.349051</td>\n      <td>0.710981</td>\n      <td>1.503748</td>\n      <td>-0.667437</td>\n      <td>-0.27087</td>\n      <td>-0.015808</td>\n      <td>-0.024592</td>\n      <td>0.015432</td>\n      <td>-0.086922</td>\n      <td>2</td>\n      <td>0</td>\n      <td>0</td>\n    </tr>\n    <tr>\n      <th>3</th>\n      <td>1.358591</td>\n      <td>0.638104</td>\n      <td>1.353701</td>\n      <td>0</td>\n      <td>1</td>\n      <td>0</td>\n      <td>0</td>\n      <td>0</td>\n      <td>1.349051</td>\n      <td>0.710981</td>\n      <td>1.503748</td>\n      <td>-0.667437</td>\n      <td>-0.27087</td>\n      <td>-0.015808</td>\n      <td>0.009985</td>\n      <td>0.015423</td>\n      <td>0.010539</td>\n      <td>3</td>\n      <td>0</td>\n      <td>0</td>\n    </tr>\n    <tr>\n      <th>4</th>\n      <td>1.351843</td>\n      <td>0.646686</td>\n      <td>1.455002</td>\n      <td>0</td>\n      <td>0</td>\n      <td>0</td>\n      <td>1</td>\n      <td>0</td>\n      <td>1.349051</td>\n      <td>0.710981</td>\n      <td>1.503748</td>\n      <td>-0.667437</td>\n      <td>-0.27087</td>\n      <td>-0.015808</td>\n      <td>-0.006748</td>\n      <td>0.008581</td>\n      <td>0.101300</td>\n      <td>4</td>\n      <td>0</td>\n      <td>0</td>\n    </tr>\n  </tbody>\n</table>\n</div>"
     },
     "execution_count": 5,
     "metadata": {},
     "output_type": "execute_result"
    }
   ],
   "source": [
    "import numpy as np\n",
    "import pandas as pd\n",
    "\n",
    "\n",
    "\n",
    "# Calculated rate of change\n",
    "df['x_change'] = df['x'].diff().fillna(0)\n",
    "df['y_change'] = df['y'].diff().fillna(0)\n",
    "df['z_change'] = df['z'].diff().fillna(0)\n",
    "\n",
    "# Duration characteristics\n",
    "df['fall_duration'] = df['Is_Falling'].groupby((df['Is_Falling'] != df['Is_Falling'].shift()).cumsum()).cumcount()\n",
    "df['normal_duration'] = (1 - df['Is_Falling']).groupby((df['Is_Falling'] == df['Is_Falling'].shift()).cumsum()).cumcount()\n",
    "\n",
    "# Peak detection\n",
    "peak_threshold = 1.5  \n",
    "df['is_peak'] = ((df['x_change'].abs() > peak_threshold) | \n",
    "                 (df['y_change'].abs() > peak_threshold) | \n",
    "                 (df['z_change'].abs() > peak_threshold)).astype(int)\n",
    "\n",
    "df.head()  \n",
    "# print(df.head())\n"
   ],
   "metadata": {
    "collapsed": false,
    "ExecuteTime": {
     "end_time": "2023-12-15T10:26:45.927316Z",
     "start_time": "2023-12-15T10:26:45.838331Z"
    }
   },
   "id": "521ce289cf0a5fec"
  },
  {
   "cell_type": "code",
   "execution_count": 6,
   "outputs": [
    {
     "name": "stdout",
     "output_type": "stream",
     "text": [
      "          x         y         z  a  b  c  d    x_mean    y_mean    z_mean  \\\n",
      "0  1.371850  0.584813  1.475836  0  0  0  1  1.349051  0.710981  1.503748   \n",
      "1  1.373198  0.607249  1.430084  0  0  1  0  1.349051  0.710981  1.503748   \n",
      "2  1.348606  0.622682  1.343162  1  0  0  0  1.349051  0.710981  1.503748   \n",
      "3  1.358591  0.638104  1.353701  0  1  0  0  1.349051  0.710981  1.503748   \n",
      "4  1.351843  0.646686  1.455002  0  0  0  1  1.349051  0.710981  1.503748   \n",
      "\n",
      "      x_std    y_std     z_std  x_change  y_change  z_change  fall_duration  \\\n",
      "0 -0.667437 -0.27087 -0.015808  0.000000  0.000000  0.000000              0   \n",
      "1 -0.667437 -0.27087 -0.015808  0.001348  0.022436 -0.045752              1   \n",
      "2 -0.667437 -0.27087 -0.015808 -0.024592  0.015432 -0.086922              2   \n",
      "3 -0.667437 -0.27087 -0.015808  0.009985  0.015423  0.010539              3   \n",
      "4 -0.667437 -0.27087 -0.015808 -0.006748  0.008581  0.101300              4   \n",
      "\n",
      "   normal_duration  is_peak  \n",
      "0                0        0  \n",
      "1                0        0  \n",
      "2                0        0  \n",
      "3                0        0  \n",
      "4                0        0  \n"
     ]
    }
   ],
   "source": [
    "from imblearn.over_sampling import SMOTE\n",
    "\n",
    "X = df.drop('Is_Falling', axis=1)\n",
    "y = df['Is_Falling']\n",
    "X_resampled, y_resampled = X, y\n",
    "# # SMOTE oversampling \n",
    "# smote = SMOTE()\n",
    "# X_resampled, y_resampled = smote.fit_resample(X, y)\n",
    "print(X_resampled.head())"
   ],
   "metadata": {
    "collapsed": false,
    "ExecuteTime": {
     "end_time": "2023-12-15T10:26:47.007971200Z",
     "start_time": "2023-12-15T10:26:45.883118Z"
    }
   },
   "id": "aa0fabf42f2999b8"
  },
  {
   "cell_type": "markdown",
   "source": [
    "Do the same for test"
   ],
   "metadata": {
    "collapsed": false
   },
   "id": "1de60f9572bfdb73"
  },
  {
   "cell_type": "code",
   "execution_count": 7,
   "outputs": [],
   "source": [
    "\n",
    "import pandas as pd\n",
    "from sklearn.preprocessing import StandardScaler\n",
    "\n",
    "for col in ['x', 'y', 'z']:\n",
    "    if testdata[col].isnull().any():\n",
    "        testdata[col].fillna(testdata[col].mean(), inplace=True)\n",
    "\n",
    "for col in ['a', 'b', 'c', 'd']:\n",
    "    if testdata[col].isnull().any():\n",
    "        testdata[col].fillna(method='ffill', inplace=True)\n",
    "\n",
    "\n",
    "rolling_features = testdata[['x', 'y', 'z']].rolling(window=window_size)\n",
    "testdata['x_mean'] = rolling_features.mean()['x']\n",
    "testdata['y_mean'] = rolling_features.mean()['y']\n",
    "testdata['z_mean'] = rolling_features.mean()['z']\n",
    "testdata['x_std'] = rolling_features.std()['x']\n",
    "testdata['y_std'] = rolling_features.std()['y']\n",
    "testdata['z_std'] = rolling_features.std()['z']\n",
    "\n",
    "# Fill the starting NaN value of the sliding window\n",
    "testdata.fillna(method='bfill', inplace=True)\n",
    "\n",
    "# scaler\n",
    "scaler = StandardScaler()\n",
    "columns_to_scale = ['x', 'y', 'z', 'x_mean', 'y_mean', 'z_mean', 'x_std', 'y_std', 'z_std']\n",
    "testdata[columns_to_scale] = scaler.fit_transform(testdata[columns_to_scale])\n",
    "\n",
    "# v change\n",
    "testdata['x_change'] = testdata['x'].diff().fillna(0)\n",
    "testdata['y_change'] = testdata['y'].diff().fillna(0)\n",
    "testdata['z_change'] = testdata['z'].diff().fillna(0)\n",
    "\n",
    "# Duration\n",
    "testdata['fall_duration'] = testdata['Is_Falling'].groupby((testdata['Is_Falling'] != testdata['Is_Falling'].shift()).cumsum()).cumcount()\n",
    "testdata['normal_duration'] = (1 - testdata['Is_Falling']).groupby((testdata['Is_Falling'] == testdata['Is_Falling'].shift()).cumsum()).cumcount()\n",
    "\n",
    "# Peak detection\n",
    "peak_threshold = 1.5\n",
    "testdata['is_peak'] = ((testdata['x_change'].abs() > peak_threshold) |\n",
    "                          (testdata['y_change'].abs() > peak_threshold) |\n",
    "                          (testdata['z_change'].abs() > peak_threshold)).astype(int)\n",
    "\n"
   ],
   "metadata": {
    "collapsed": false,
    "ExecuteTime": {
     "end_time": "2023-12-15T10:26:47.046482200Z",
     "start_time": "2023-12-15T10:26:47.001970100Z"
    }
   },
   "id": "e6b073d6cbed26dd"
  },
  {
   "cell_type": "markdown",
   "source": [
    "Replace useless feature(according to the rf_importance below,which I found is harmful to the result)"
   ],
   "metadata": {
    "collapsed": false
   },
   "id": "7b454a0b9fbd496c"
  },
  {
   "cell_type": "code",
   "execution_count": 8,
   "outputs": [],
   "source": [
    "testdata.drop(['c'], axis=1, inplace=True)\n",
    "testdata.drop(['d'], axis=1, inplace=True)\n",
    "X_resampled.drop(['c'], axis=1, inplace=True)\n",
    "X_resampled.drop(['d'], axis=1, inplace=True)\n",
    "testdata.drop(['is_peak'], axis=1, inplace=True)\n",
    "X_resampled.drop(['is_peak'], axis=1, inplace=True)\n",
    "testdata.drop(['ID'], axis=1, inplace=True)\n",
    "testdata_copy = testdata.copy()"
   ],
   "metadata": {
    "collapsed": false,
    "ExecuteTime": {
     "end_time": "2023-12-15T10:26:47.063482800Z",
     "start_time": "2023-12-15T10:26:47.032973400Z"
    }
   },
   "id": "5ebffdc812717b57"
  },
  {
   "cell_type": "markdown",
   "source": [
    "add feature of momentum acceleration ...(I found these are the most important feature which increase my presicion from 50 to 80)"
   ],
   "metadata": {
    "collapsed": false
   },
   "id": "d2b7e87f49bcfd5f"
  },
  {
   "cell_type": "code",
   "execution_count": 9,
   "outputs": [],
   "source": [
    "\n",
    "\n",
    "\n",
    "\n",
    "import numpy as np\n",
    "\n",
    "def add_features(data, window_size):\n",
    "    # momentum\n",
    "    for col in ['x_change', 'y_change', 'z_change']:\n",
    "        data[f'{col}_momentum_mean'] = data[col].rolling(window=window_size).mean()\n",
    "        data[f'{col}_momentum_std'] = data[col].rolling(window=window_size).std()\n",
    "\n",
    "    # acceleration\n",
    "    for col in ['x', 'y', 'z']:\n",
    "        data[f'{col}_acceleration'] = data[col].diff().diff().fillna(0)\n",
    "\n",
    "    # Angular feature\n",
    "    data['angleyx'] = np.arctan2(data['y'], data['x'])\n",
    "    data['anglezx'] = np.arctan2(data['z'], data['x'])\n",
    "    data['anglezy'] = np.arctan2(data['z'], data['y'])\n",
    "    # Interaction feature\n",
    "    data['x_y_interaction'] = data['x'] * data['y']\n",
    "    data['x_z_interaction'] = data['x'] * data['z']\n",
    "    data['y_z_interaction'] = data['y'] * data['z']\n",
    "    data['x_z_change_interaction'] = data['x'] * data['z_change']\n",
    "    data['x_y_change_interaction'] = data['x'] * data['y_change']\n",
    "    data['y_z_change_interaction'] = data['y'] * data['z_change']\n",
    "    data['y_x_change_interaction'] = data['y'] * data['x_change']\n",
    "\n",
    "    # sma\n",
    "    data['SMA'] = (data['x'].abs() + data['y'].abs() + data['z'].abs()).mean()\n",
    "\n",
    "    # Make sure to populate any resulting NaN values\n",
    "    data.fillna(method='bfill', inplace=True)\n",
    "\n",
    "    return data\n",
    "\n",
    "X_resampled = add_features(X_resampled, window_size)\n",
    "testdata = add_features(testdata, window_size)\n",
    "\n",
    "\n"
   ],
   "metadata": {
    "collapsed": false,
    "ExecuteTime": {
     "end_time": "2023-12-15T10:26:47.126569Z",
     "start_time": "2023-12-15T10:26:47.066483900Z"
    }
   },
   "id": "f8945e475743af56"
  },
  {
   "cell_type": "markdown",
   "source": [
    "## Train and test(ml)"
   ],
   "metadata": {
    "collapsed": false
   },
   "id": "335c8ffc3e873fb9"
  },
  {
   "cell_type": "code",
   "execution_count": 21,
   "outputs": [],
   "source": [
    "from imblearn.over_sampling import ADASYN\n",
    "adasyn = ADASYN()\n",
    "\n",
    "\n",
    "X_resampled_adasyn, y_resampled_adasyn = adasyn.fit_resample(X_resampled, y_resampled)"
   ],
   "metadata": {
    "collapsed": false,
    "ExecuteTime": {
     "end_time": "2023-12-15T11:24:04.041929800Z",
     "start_time": "2023-12-15T11:24:03.380842400Z"
    }
   },
   "id": "e772aad6874e7790"
  },
  {
   "cell_type": "markdown",
   "source": [
    "ADASYN + RF"
   ],
   "metadata": {
    "collapsed": false
   },
   "id": "e84e5567be1eac4c"
  },
  {
   "cell_type": "code",
   "execution_count": 22,
   "outputs": [
    {
     "name": "stdout",
     "output_type": "stream",
     "text": [
      "Precision: 0.8564\n",
      "Recall (Class 1): 0.9038\n",
      "Recall : 0.9038\n"
     ]
    }
   ],
   "source": [
    "\n",
    "from sklearn.ensemble import RandomForestClassifier\n",
    "from sklearn.metrics import recall_score, precision_score, precision_recall_curve\n",
    "\n",
    "\n",
    "\n",
    "# rf\n",
    "rf_classifier = RandomForestClassifier(class_weight={0: 6, 1: 1}, random_state=42)\n",
    "\n",
    "# train\n",
    "rf_classifier.fit(X_resampled_adasyn, y_resampled_adasyn)\n",
    "\n",
    "# predict\n",
    "probabilities = rf_classifier.predict_proba(testdata.drop('Is_Falling', axis=1))[:, 1]\n",
    "\n",
    "# Calculate accuracy and recall rates for different thresholds\n",
    "precisions, recalls, thresholds = precision_recall_curve(testdata['Is_Falling'], probabilities)\n",
    "\n",
    "# Select a threshold that maximizes the product of accuracy and recall\n",
    "optimal_idx = np.argmax(precisions * recalls)\n",
    "optimal_threshold = thresholds[optimal_idx]\n",
    "\n",
    "\n",
    "# Thresholds are applied for classification\n",
    "predicted_labels = (probabilities >= optimal_threshold).astype(int)\n",
    "\n",
    "# Calculate accuracy and recall rates for category 1\n",
    "accuracy = precision_score(testdata['Is_Falling'], predicted_labels)\n",
    "recall_class1 = recall_score(testdata['Is_Falling'], predicted_labels, pos_label=1)\n",
    "recall_class = recall_score(testdata['Is_Falling'], predicted_labels)\n",
    "print(f'Precision: {accuracy:.4f}')\n",
    "print(f'Recall (Class 1): {recall_class1:.4f}')\n",
    "print(f'Recall : {recall_class:.4f}')\n",
    "\n",
    "\n",
    "\n"
   ],
   "metadata": {
    "collapsed": false,
    "ExecuteTime": {
     "end_time": "2023-12-15T11:28:28.649365100Z",
     "start_time": "2023-12-15T11:24:04.672304600Z"
    }
   },
   "id": "3ffe1b3df920d78e"
  },
  {
   "cell_type": "code",
   "execution_count": 23,
   "outputs": [
    {
     "name": "stdout",
     "output_type": "stream",
     "text": [
      "0.65\n"
     ]
    }
   ],
   "source": [
    "print(optimal_threshold)"
   ],
   "metadata": {
    "collapsed": false,
    "ExecuteTime": {
     "end_time": "2023-12-15T11:28:28.665365100Z",
     "start_time": "2023-12-15T11:28:28.650366900Z"
    }
   },
   "id": "a0901750641bf89f"
  },
  {
   "cell_type": "code",
   "execution_count": 25,
   "outputs": [],
   "source": [
    "output_df = pd.DataFrame()\n",
    "output_df['ID'] = testdata.index + 1  \n",
    "output_df['Is_Falling'] = predicted_labels  \n",
    "\n",
    "output_df.to_csv('Q1_output.csv', index=False)\n"
   ],
   "metadata": {
    "collapsed": false,
    "ExecuteTime": {
     "end_time": "2023-12-15T11:29:47.122916100Z",
     "start_time": "2023-12-15T11:29:47.100724900Z"
    }
   },
   "id": "e6a777ad2424919b"
  },
  {
   "cell_type": "markdown",
   "source": [
    "lightgbm"
   ],
   "metadata": {
    "collapsed": false
   },
   "id": "dcfc851d6ca95c32"
  },
  {
   "cell_type": "code",
   "execution_count": 13,
   "outputs": [
    {
     "name": "stdout",
     "output_type": "stream",
     "text": [
      "[LightGBM] [Info] Number of positive: 127659, number of negative: 127656\n",
      "[LightGBM] [Info] Auto-choosing col-wise multi-threading, the overhead of testing was 0.006169 seconds.\n",
      "You can set `force_col_wise=true` to remove the overhead.\n",
      "[LightGBM] [Info] Total Bins 6381\n",
      "[LightGBM] [Info] Number of data points in the train set: 255315, number of used features: 28\n",
      "[LightGBM] [Info] [binary:BoostFromScore]: pavg=0.062501 -> initscore=-2.708027\n",
      "[LightGBM] [Info] Start training from score -2.708027\n",
      "Precision: 0.4118\n",
      "Recall (Class 1): 0.9942\n"
     ]
    }
   ],
   "source": [
    "import lightgbm as lgb\n",
    "from sklearn.metrics import recall_score, precision_score, precision_recall_curve\n",
    "\n",
    "# LightGBM\n",
    "lgb_classifier = lgb.LGBMClassifier(class_weight={0: 15, 1: 1}, random_state=42)\n",
    "\n",
    "# train\n",
    "lgb_classifier.fit(X_resampled_adasyn, y_resampled_adasyn)\n",
    "\n",
    "probabilities = lgb_classifier.predict_proba(testdata.drop('Is_Falling', axis=1))[:, 1]\n",
    "\n",
    "precisions, recalls, thresholds = precision_recall_curve(testdata['Is_Falling'], probabilities)\n",
    "\n",
    "optimal_idx = np.argmax(precisions * recalls)\n",
    "optimal_threshold = thresholds[optimal_idx]\n",
    "\n",
    "predicted_labels = (probabilities >= optimal_threshold).astype(int)\n",
    "\n",
    "accuracy = precision_score(testdata['Is_Falling'], predicted_labels)\n",
    "recall_class1 = recall_score(testdata['Is_Falling'], predicted_labels, pos_label=1)\n",
    "\n",
    "print(f'Precision: {accuracy:.4f}')\n",
    "print(f'Recall (Class 1): {recall_class1:.4f}')"
   ],
   "metadata": {
    "collapsed": false,
    "ExecuteTime": {
     "end_time": "2023-12-15T07:38:19.201426300Z",
     "start_time": "2023-12-15T07:38:18.394350900Z"
    }
   },
   "id": "8d5d05ee3e9fafad"
  },
  {
   "cell_type": "markdown",
   "source": [
    "SMOTE + RF"
   ],
   "metadata": {
    "collapsed": false
   },
   "id": "fba27837b81accb9"
  },
  {
   "cell_type": "code",
   "execution_count": 14,
   "outputs": [
    {
     "name": "stdout",
     "output_type": "stream",
     "text": [
      "Fitting 3 folds for each of 1 candidates, totalling 3 fits\n",
      "Best Parameters: {'max_depth': 10, 'min_samples_leaf': 1, 'min_samples_split': 20, 'n_estimators': 100}\n",
      "Precision: 0.7424\n",
      "Recall (Class 1): 0.8571\n"
     ]
    }
   ],
   "source": [
    "from sklearn.model_selection import GridSearchCV\n",
    "from sklearn.ensemble import RandomForestClassifier\n",
    "from imblearn.over_sampling import SMOTE\n",
    "\n",
    "# SMOTE\n",
    "smote = SMOTE()\n",
    "\n",
    "# Resampling the training data\n",
    "X_resampled_smote, y_resampled_smote = smote.fit_resample(X_resampled, y_resampled)\n",
    "\n",
    "param_grid = {\n",
    "    'n_estimators': [100],\n",
    "    'max_depth': [10],\n",
    "    'min_samples_split': [20],\n",
    "    'min_samples_leaf': [1]\n",
    "}\n",
    "\n",
    "# rf\n",
    "rf_classifier = RandomForestClassifier(class_weight={0: 5, 1: 1}, random_state=42)\n",
    "\n",
    "grid_search = GridSearchCV(estimator=rf_classifier, param_grid=param_grid, \n",
    "                           cv=3, n_jobs=-1, scoring='recall', verbose=1)\n",
    "\n",
    "grid_search.fit(X_resampled_smote, y_resampled_smote)\n",
    "\n",
    "print(\"Best Parameters:\", grid_search.best_params_)\n",
    "\n",
    "best_rf = grid_search.best_estimator_\n",
    "probabilities = best_rf.predict_proba(testdata.drop('Is_Falling', axis=1))[:, 1]\n",
    "\n",
    "\n",
    "from sklearn.metrics import precision_recall_curve\n",
    "\n",
    "precisions, recalls, thresholds = precision_recall_curve(testdata['Is_Falling'], probabilities)\n",
    "\n",
    "optimal_idx = np.argmax(precisions * recalls)\n",
    "optimal_threshold = thresholds[optimal_idx]\n",
    "\n",
    "predicted_labels = (probabilities >= optimal_threshold).astype(int)\n",
    "\n",
    "accuracy = precision_score(testdata['Is_Falling'], predicted_labels)\n",
    "recall_class1 = recall_score(testdata['Is_Falling'], predicted_labels, pos_label=1)\n",
    "\n",
    "print(f'Precision: {accuracy:.4f}')\n",
    "print(f'Recall (Class 1): {recall_class1:.4f}')\n"
   ],
   "metadata": {
    "collapsed": false,
    "ExecuteTime": {
     "end_time": "2023-12-15T07:41:57.907648200Z",
     "start_time": "2023-12-15T07:38:19.210425800Z"
    }
   },
   "id": "18f29f0d07275d46"
  },
  {
   "cell_type": "code",
   "execution_count": null,
   "outputs": [],
   "source": [],
   "metadata": {
    "collapsed": false
   },
   "id": "7e460e8c4c55a70"
  },
  {
   "cell_type": "markdown",
   "source": [
    "## Feature engineering for dl"
   ],
   "metadata": {
    "collapsed": false
   },
   "id": "d51cd39ace80cd51"
  },
  {
   "cell_type": "markdown",
   "source": [
    "Select features using rf"
   ],
   "metadata": {
    "collapsed": false
   },
   "id": "e3f5d67bc90759a9"
  },
  {
   "cell_type": "code",
   "execution_count": 15,
   "outputs": [
    {
     "name": "stdout",
     "output_type": "stream",
     "text": [
      "Top 10 features: ['z', 'z_mean', 'x', 'z_change_momentum_std', 'x_mean', 'x_change_momentum_std', 'fall_duration']\n"
     ]
    }
   ],
   "source": [
    "from sklearn.ensemble import RandomForestClassifier\n",
    "\n",
    "# Use random forests to estimate feature importance\n",
    "rf = RandomForestClassifier()\n",
    "rf.fit(X_resampled, y_resampled)\n",
    "\n",
    "# Acquired feature importance\n",
    "importances = rf.feature_importances_\n",
    "indices = np.argsort(importances)[-7:]\n",
    "\n",
    "top_features = [X_resampled.columns[i] for i in indices]\n",
    "print(\"Top 10 features:\", top_features)\n"
   ],
   "metadata": {
    "collapsed": false,
    "ExecuteTime": {
     "end_time": "2023-12-15T07:43:08.044863700Z",
     "start_time": "2023-12-15T07:41:57.908649700Z"
    }
   },
   "id": "357444a815a968cf"
  },
  {
   "cell_type": "code",
   "execution_count": 16,
   "outputs": [
    {
     "data": {
      "text/plain": "['z',\n 'z_mean',\n 'x',\n 'z_change_momentum_std',\n 'x_mean',\n 'x_change_momentum_std',\n 'fall_duration']"
     },
     "execution_count": 16,
     "metadata": {},
     "output_type": "execute_result"
    }
   ],
   "source": [
    "top_features"
   ],
   "metadata": {
    "collapsed": false,
    "ExecuteTime": {
     "end_time": "2023-12-15T07:43:08.044863700Z",
     "start_time": "2023-12-15T07:43:08.044863700Z"
    }
   },
   "id": "1d609c0c078908f8"
  },
  {
   "cell_type": "code",
   "execution_count": 17,
   "outputs": [
    {
     "name": "stdout",
     "output_type": "stream",
     "text": [
      "          x         y         z  a  b    x_mean    y_mean    z_mean     x_std  \\\n",
      "0  1.371850  0.584813  1.475836  0  0  1.349051  0.710981  1.503748 -0.667437   \n",
      "1  1.373198  0.607249  1.430084  0  0  1.349051  0.710981  1.503748 -0.667437   \n",
      "2  1.348606  0.622682  1.343162  1  0  1.349051  0.710981  1.503748 -0.667437   \n",
      "3  1.358591  0.638104  1.353701  0  1  1.349051  0.710981  1.503748 -0.667437   \n",
      "4  1.351843  0.646686  1.455002  0  0  1.349051  0.710981  1.503748 -0.667437   \n",
      "\n",
      "     y_std  ...  y_change_momentum_std  z_change_momentum_mean  \\\n",
      "0 -0.27087  ...               0.012536                0.004666   \n",
      "1 -0.27087  ...               0.012536                0.004666   \n",
      "2 -0.27087  ...               0.012536                0.004666   \n",
      "3 -0.27087  ...               0.012536                0.004666   \n",
      "4 -0.27087  ...               0.012536                0.004666   \n",
      "\n",
      "   z_change_momentum_std  x_acceleration  y_acceleration  z_acceleration  \\\n",
      "0               0.067089        0.000000        0.000000        0.000000   \n",
      "1               0.067089        0.000000        0.000000        0.000000   \n",
      "2               0.067089       -0.025940       -0.007004       -0.041170   \n",
      "3               0.067089        0.034577       -0.000010        0.097461   \n",
      "4               0.067089       -0.016733       -0.006842        0.090761   \n",
      "\n",
      "      angle  x_y_interaction  x_z_change_interaction       SMA  \n",
      "0  0.402967         0.802276                0.000000  2.527514  \n",
      "1  0.416362         0.833873               -0.062826  2.527514  \n",
      "2  0.432560         0.839752               -0.117224  2.527514  \n",
      "3  0.439100         0.866923                0.014318  2.527514  \n",
      "4  0.446197         0.874217                0.136942  2.527514  \n",
      "\n",
      "[5 rows x 29 columns]\n",
      "          x         y         z  a  b  Is_Falling    x_mean    y_mean  \\\n",
      "0 -1.560579 -0.470294  0.937880  0  0           0 -1.569741 -0.448332   \n",
      "1 -1.554662 -0.447875  0.910974  0  0           0 -1.569741 -0.448332   \n",
      "2 -1.554954 -0.448997  0.900787  1  0           0 -1.569741 -0.448332   \n",
      "3 -1.567222 -0.453087  1.188580  0  0           0 -1.569741 -0.448332   \n",
      "4 -1.558351 -0.438591  1.113441  0  0           0 -1.569741 -0.448332   \n",
      "\n",
      "     z_mean     x_std  ...  y_change_momentum_std  z_change_momentum_mean  \\\n",
      "0  1.101936 -0.798263  ...               0.019529                0.019221   \n",
      "1  1.101936 -0.798263  ...               0.019529                0.019221   \n",
      "2  1.101936 -0.798263  ...               0.019529                0.019221   \n",
      "3  1.101936 -0.798263  ...               0.019529                0.019221   \n",
      "4  1.101936 -0.798263  ...               0.019529                0.019221   \n",
      "\n",
      "   z_change_momentum_std  x_acceleration  y_acceleration  z_acceleration  \\\n",
      "0                0.13119        0.000000        0.000000        0.000000   \n",
      "1                0.13119        0.000000        0.000000        0.000000   \n",
      "2                0.13119       -0.006209       -0.023541        0.016718   \n",
      "3                0.13119       -0.011975       -0.002969        0.297981   \n",
      "4                0.13119        0.021138        0.018586       -0.362933   \n",
      "\n",
      "      angle  x_y_interaction  x_z_change_interaction       SMA  \n",
      "0 -2.848890         0.733932               -0.000000  2.606243  \n",
      "1 -2.861102         0.696294                0.041829  2.606243  \n",
      "2 -2.860487         0.698169                0.015841  2.606243  \n",
      "3 -2.860164         0.710088               -0.451036  2.606243  \n",
      "4 -2.867244         0.683479                0.117094  2.606243  \n",
      "\n",
      "[5 rows x 30 columns]\n"
     ]
    }
   ],
   "source": [
    "print(X_resampled.head())\n",
    "print(testdata.head())"
   ],
   "metadata": {
    "collapsed": false,
    "ExecuteTime": {
     "end_time": "2023-12-15T07:43:08.044863700Z",
     "start_time": "2023-12-15T07:43:08.044863700Z"
    }
   },
   "id": "e706ee868dc0084b"
  },
  {
   "cell_type": "markdown",
   "source": [
    "Select features"
   ],
   "metadata": {
    "collapsed": false
   },
   "id": "62b11b5fe6e331df"
  },
  {
   "cell_type": "code",
   "execution_count": 18,
   "outputs": [],
   "source": [
    "top_features = np.argsort(importances)[-7:]\n",
    "\n",
    "selected_columns = X_resampled.columns[top_features]\n",
    "\n",
    "X_resampled = X_resampled[selected_columns]\n",
    "\n",
    "selected_columns = ['Is_Falling'] + [col for col in selected_columns if col != 'Is_Falling']\n",
    "\n",
    "testdata = testdata[selected_columns]\n",
    "\n"
   ],
   "metadata": {
    "collapsed": false,
    "ExecuteTime": {
     "end_time": "2023-12-15T07:43:08.044863700Z",
     "start_time": "2023-12-15T07:43:08.044863700Z"
    }
   },
   "id": "96a63916f9b8cc63"
  },
  {
   "cell_type": "code",
   "execution_count": 19,
   "outputs": [
    {
     "data": {
      "text/plain": "               z    z_mean         x  z_change_momentum_std    x_mean  \\\n0       1.475836  1.503748  1.371850               0.067089  1.349051   \n1       1.430084  1.503748  1.373198               0.067089  1.349051   \n2       1.343162  1.503748  1.348606               0.067089  1.349051   \n3       1.353701  1.503748  1.358591               0.067089  1.349051   \n4       1.455002  1.503748  1.351843               0.067089  1.349051   \n...          ...       ...       ...                    ...       ...   \n134224  0.042976 -0.043996  2.631264               0.108588  2.643493   \n134225 -0.034080 -0.042743  2.625611               0.109644  2.644575   \n134226  0.124319 -0.034408  2.619821               0.113950  2.645587   \n134227  0.058408 -0.028606  2.610566               0.114900  2.645762   \n134228 -0.020183 -0.029400  2.602487               0.114849  2.644937   \n\n        x_change_momentum_std  fall_duration  \n0                    0.014357              0  \n1                    0.014357              1  \n2                    0.014357              2  \n3                    0.014357              3  \n4                    0.014357              4  \n...                       ...            ...  \n134224               0.008069            539  \n134225               0.007734            540  \n134226               0.007790            541  \n134227               0.007725            542  \n134228               0.007068            543  \n\n[134229 rows x 7 columns]",
      "text/html": "<div>\n<style scoped>\n    .dataframe tbody tr th:only-of-type {\n        vertical-align: middle;\n    }\n\n    .dataframe tbody tr th {\n        vertical-align: top;\n    }\n\n    .dataframe thead th {\n        text-align: right;\n    }\n</style>\n<table border=\"1\" class=\"dataframe\">\n  <thead>\n    <tr style=\"text-align: right;\">\n      <th></th>\n      <th>z</th>\n      <th>z_mean</th>\n      <th>x</th>\n      <th>z_change_momentum_std</th>\n      <th>x_mean</th>\n      <th>x_change_momentum_std</th>\n      <th>fall_duration</th>\n    </tr>\n  </thead>\n  <tbody>\n    <tr>\n      <th>0</th>\n      <td>1.475836</td>\n      <td>1.503748</td>\n      <td>1.371850</td>\n      <td>0.067089</td>\n      <td>1.349051</td>\n      <td>0.014357</td>\n      <td>0</td>\n    </tr>\n    <tr>\n      <th>1</th>\n      <td>1.430084</td>\n      <td>1.503748</td>\n      <td>1.373198</td>\n      <td>0.067089</td>\n      <td>1.349051</td>\n      <td>0.014357</td>\n      <td>1</td>\n    </tr>\n    <tr>\n      <th>2</th>\n      <td>1.343162</td>\n      <td>1.503748</td>\n      <td>1.348606</td>\n      <td>0.067089</td>\n      <td>1.349051</td>\n      <td>0.014357</td>\n      <td>2</td>\n    </tr>\n    <tr>\n      <th>3</th>\n      <td>1.353701</td>\n      <td>1.503748</td>\n      <td>1.358591</td>\n      <td>0.067089</td>\n      <td>1.349051</td>\n      <td>0.014357</td>\n      <td>3</td>\n    </tr>\n    <tr>\n      <th>4</th>\n      <td>1.455002</td>\n      <td>1.503748</td>\n      <td>1.351843</td>\n      <td>0.067089</td>\n      <td>1.349051</td>\n      <td>0.014357</td>\n      <td>4</td>\n    </tr>\n    <tr>\n      <th>...</th>\n      <td>...</td>\n      <td>...</td>\n      <td>...</td>\n      <td>...</td>\n      <td>...</td>\n      <td>...</td>\n      <td>...</td>\n    </tr>\n    <tr>\n      <th>134224</th>\n      <td>0.042976</td>\n      <td>-0.043996</td>\n      <td>2.631264</td>\n      <td>0.108588</td>\n      <td>2.643493</td>\n      <td>0.008069</td>\n      <td>539</td>\n    </tr>\n    <tr>\n      <th>134225</th>\n      <td>-0.034080</td>\n      <td>-0.042743</td>\n      <td>2.625611</td>\n      <td>0.109644</td>\n      <td>2.644575</td>\n      <td>0.007734</td>\n      <td>540</td>\n    </tr>\n    <tr>\n      <th>134226</th>\n      <td>0.124319</td>\n      <td>-0.034408</td>\n      <td>2.619821</td>\n      <td>0.113950</td>\n      <td>2.645587</td>\n      <td>0.007790</td>\n      <td>541</td>\n    </tr>\n    <tr>\n      <th>134227</th>\n      <td>0.058408</td>\n      <td>-0.028606</td>\n      <td>2.610566</td>\n      <td>0.114900</td>\n      <td>2.645762</td>\n      <td>0.007725</td>\n      <td>542</td>\n    </tr>\n    <tr>\n      <th>134228</th>\n      <td>-0.020183</td>\n      <td>-0.029400</td>\n      <td>2.602487</td>\n      <td>0.114849</td>\n      <td>2.644937</td>\n      <td>0.007068</td>\n      <td>543</td>\n    </tr>\n  </tbody>\n</table>\n<p>134229 rows × 7 columns</p>\n</div>"
     },
     "execution_count": 19,
     "metadata": {},
     "output_type": "execute_result"
    }
   ],
   "source": [
    "X_resampled \n"
   ],
   "metadata": {
    "collapsed": false,
    "ExecuteTime": {
     "end_time": "2023-12-15T07:43:08.045863600Z",
     "start_time": "2023-12-15T07:43:08.044863700Z"
    }
   },
   "id": "67f065d5935b89df"
  },
  {
   "cell_type": "code",
   "execution_count": 20,
   "outputs": [
    {
     "name": "stdout",
     "output_type": "stream",
     "text": [
      "cuda\n"
     ]
    }
   ],
   "source": [
    "import torch\n",
    "if torch.cuda.is_available():\n",
    "    device = torch.device('cuda')\n",
    "    print('cuda')\n",
    "else:\n",
    "    device = torch.device('cpu')\n",
    "    print('no')\n"
   ],
   "metadata": {
    "collapsed": false,
    "ExecuteTime": {
     "end_time": "2023-12-15T07:43:11.428367200Z",
     "start_time": "2023-12-15T07:43:08.044863700Z"
    }
   },
   "id": "e65f9b8adbb27cbe"
  },
  {
   "cell_type": "markdown",
   "source": [
    "The data is printed many times below for debug because of the time series used"
   ],
   "metadata": {
    "collapsed": false
   },
   "id": "49f444db5012832e"
  },
  {
   "cell_type": "code",
   "execution_count": 21,
   "outputs": [
    {
     "name": "stdout",
     "output_type": "stream",
     "text": [
      "          z    z_mean         x  z_change_momentum_std    x_mean  \\\n",
      "0  1.475836  1.503748  1.371850               0.067089  1.349051   \n",
      "1  1.430084  1.503748  1.373198               0.067089  1.349051   \n",
      "2  1.343162  1.503748  1.348606               0.067089  1.349051   \n",
      "3  1.353701  1.503748  1.358591               0.067089  1.349051   \n",
      "4  1.455002  1.503748  1.351843               0.067089  1.349051   \n",
      "\n",
      "   x_change_momentum_std  fall_duration  \n",
      "0               0.014357              0  \n",
      "1               0.014357              1  \n",
      "2               0.014357              2  \n",
      "3               0.014357              3  \n",
      "4               0.014357              4  \n",
      "   Is_Falling         z    z_mean         x  z_change_momentum_std    x_mean  \\\n",
      "0           0  0.937880  1.101936 -1.560579                0.13119 -1.569741   \n",
      "1           0  0.910974  1.101936 -1.554662                0.13119 -1.569741   \n",
      "2           0  0.900787  1.101936 -1.554954                0.13119 -1.569741   \n",
      "3           0  1.188580  1.101936 -1.567222                0.13119 -1.569741   \n",
      "4           0  1.113441  1.101936 -1.558351                0.13119 -1.569741   \n",
      "\n",
      "   x_change_momentum_std  fall_duration  \n",
      "0               0.007082              0  \n",
      "1               0.007082              1  \n",
      "2               0.007082              2  \n",
      "3               0.007082              3  \n",
      "4               0.007082              4  \n"
     ]
    }
   ],
   "source": [
    "print(X_resampled.head())\n",
    "print(testdata.head())"
   ],
   "metadata": {
    "collapsed": false,
    "ExecuteTime": {
     "end_time": "2023-12-15T07:43:11.449369300Z",
     "start_time": "2023-12-15T07:43:11.429369300Z"
    }
   },
   "id": "4cdf640a38edf5a0"
  },
  {
   "cell_type": "markdown",
   "source": [
    "build train_data and test"
   ],
   "metadata": {
    "collapsed": false
   },
   "id": "87a982a33a793c8"
  },
  {
   "cell_type": "code",
   "execution_count": 22,
   "outputs": [],
   "source": [
    "import torch\n",
    "import torch.nn as nn\n",
    "import torch.optim as optim\n",
    "from torch.utils.data import DataLoader, TensorDataset\n",
    "\n",
    "X_train=X_resampled\n",
    "y_train=y_resampled\n",
    "\n",
    "TIME_STEPS=10\n",
    "def create_sequences(X, y, time_steps=TIME_STEPS):\n",
    "    Xs, ys = [], []\n",
    "    for i in range(len(X) - time_steps):\n",
    "        Xs.append(X.iloc[i:(i+time_steps)].values)\n",
    "        ys.append(y.iloc[i+time_steps])\n",
    "    return np.array(Xs), np.array(ys)\n",
    "\n",
    "# Create a sequence using the modified function\n",
    "X_train, y_train = create_sequences(X_resampled, y_resampled)\n",
    "X_test, y_test = create_sequences(testdata.drop('Is_Falling',axis=1), testdata_copy['Is_Falling'])\n",
    "X_train_tensor = torch.tensor(X_train, dtype=torch.float32).to(device)\n",
    "y_train_tensor = torch.tensor(y_train, dtype=torch.float32).to(device)\n",
    "X_test_tensor = torch.tensor(X_test, dtype=torch.float32).to(device)\n",
    "y_train_tensor = y_train_tensor.unsqueeze(-1)  # Add a new dimension with size 1\n",
    "\n",
    "train_data = TensorDataset(X_train_tensor, y_train_tensor)\n"
   ],
   "metadata": {
    "collapsed": false,
    "ExecuteTime": {
     "end_time": "2023-12-15T07:43:17.357092400Z",
     "start_time": "2023-12-15T07:43:11.444368300Z"
    }
   },
   "id": "5b75d6671e6d1eee"
  },
  {
   "cell_type": "code",
   "execution_count": 23,
   "outputs": [
    {
     "name": "stdout",
     "output_type": "stream",
     "text": [
      "torch.Size([134219, 10, 7])\n"
     ]
    }
   ],
   "source": [
    "print(X_train_tensor.shape)"
   ],
   "metadata": {
    "collapsed": false,
    "ExecuteTime": {
     "end_time": "2023-12-15T07:43:17.372181300Z",
     "start_time": "2023-12-15T07:43:17.357092400Z"
    }
   },
   "id": "e1d3e68aca82ec83"
  },
  {
   "cell_type": "code",
   "execution_count": 24,
   "outputs": [
    {
     "data": {
      "text/plain": "(6613, 10, 7)"
     },
     "execution_count": 24,
     "metadata": {},
     "output_type": "execute_result"
    }
   ],
   "source": [
    "X_test.shape"
   ],
   "metadata": {
    "collapsed": false,
    "ExecuteTime": {
     "end_time": "2023-12-15T07:43:17.679848300Z",
     "start_time": "2023-12-15T07:43:17.679848300Z"
    }
   },
   "id": "6325414af500bfa9"
  },
  {
   "cell_type": "markdown",
   "source": [
    "## Train and test(DL)"
   ],
   "metadata": {
    "collapsed": false
   },
   "id": "7c4f85d038bb11d1"
  },
  {
   "cell_type": "code",
   "execution_count": 25,
   "outputs": [],
   "source": [
    "torch.cuda.empty_cache()"
   ],
   "metadata": {
    "collapsed": false,
    "ExecuteTime": {
     "end_time": "2023-12-15T07:43:17.679848300Z",
     "start_time": "2023-12-15T07:43:17.679848300Z"
    }
   },
   "id": "b8337bf34ac922d8"
  },
  {
   "cell_type": "markdown",
   "source": [
    "Lstm"
   ],
   "metadata": {
    "collapsed": false
   },
   "id": "7da4907bae9f3168"
  },
  {
   "cell_type": "code",
   "execution_count": 26,
   "outputs": [
    {
     "name": "stderr",
     "output_type": "stream",
     "text": [
      "D:\\anaconda3\\envs\\dcai\\lib\\site-packages\\tqdm\\auto.py:21: TqdmWarning: IProgress not found. Please update jupyter and ipywidgets. See https://ipywidgets.readthedocs.io/en/stable/user_install.html\n",
      "  from .autonotebook import tqdm as notebook_tqdm\n"
     ]
    },
    {
     "name": "stdout",
     "output_type": "stream",
     "text": [
      "Epoch 1, Loss: 0.6249517798423767\n",
      "Epoch 2, Loss: 0.6158474683761597\n",
      "Epoch 3, Loss: 0.6075348854064941\n",
      "Epoch 4, Loss: 0.5999100804328918\n",
      "Epoch 5, Loss: 0.5925572514533997\n",
      "Epoch 6, Loss: 0.5842264294624329\n",
      "Epoch 7, Loss: 0.5744786858558655\n",
      "Epoch 8, Loss: 0.5624147653579712\n",
      "Epoch 9, Loss: 0.5488163232803345\n",
      "Epoch 10, Loss: 0.5370526313781738\n",
      "Epoch 11, Loss: 0.5276380777359009\n",
      "Epoch 12, Loss: 0.5192316770553589\n",
      "Epoch 13, Loss: 0.5103689432144165\n",
      "Epoch 14, Loss: 0.49969249963760376\n",
      "Epoch 15, Loss: 0.48740172386169434\n",
      "Epoch 16, Loss: 0.4723661541938782\n",
      "Epoch 17, Loss: 0.45843276381492615\n",
      "Epoch 18, Loss: 0.4499123692512512\n",
      "Epoch 19, Loss: 0.4418874680995941\n",
      "Epoch 20, Loss: 0.43474093079566956\n",
      "Epoch 21, Loss: 0.4280293583869934\n",
      "Epoch 22, Loss: 0.42035263776779175\n",
      "Epoch 23, Loss: 0.41141676902770996\n",
      "Epoch 24, Loss: 0.4031262993812561\n",
      "Epoch 25, Loss: 0.39582568407058716\n",
      "Epoch 26, Loss: 0.3894079029560089\n",
      "Epoch 27, Loss: 0.38227003812789917\n",
      "Epoch 28, Loss: 0.3745007812976837\n",
      "Epoch 29, Loss: 0.3678340017795563\n",
      "Epoch 30, Loss: 0.36155834794044495\n",
      "Epoch 31, Loss: 0.35599157214164734\n",
      "Epoch 32, Loss: 0.34965893626213074\n",
      "Epoch 33, Loss: 0.3428085148334503\n",
      "Epoch 34, Loss: 0.33683082461357117\n",
      "Epoch 35, Loss: 0.33138588070869446\n",
      "Epoch 36, Loss: 0.32556748390197754\n",
      "Epoch 37, Loss: 0.31773480772972107\n",
      "Epoch 38, Loss: 0.3076135218143463\n",
      "Epoch 39, Loss: 0.29361337423324585\n",
      "Epoch 40, Loss: 0.2763257920742035\n",
      "Epoch 41, Loss: 0.2623911201953888\n",
      "Epoch 42, Loss: 0.25198888778686523\n",
      "Epoch 43, Loss: 0.2423500120639801\n",
      "Epoch 44, Loss: 0.23239469528198242\n",
      "Epoch 45, Loss: 0.2245088815689087\n",
      "Epoch 46, Loss: 0.21850690245628357\n",
      "Epoch 47, Loss: 0.21275030076503754\n",
      "Epoch 48, Loss: 0.2065270096063614\n",
      "Epoch 49, Loss: 0.19939647614955902\n",
      "Epoch 50, Loss: 0.19202955067157745\n",
      "Epoch 51, Loss: 0.18598230183124542\n",
      "Epoch 52, Loss: 0.17875412106513977\n",
      "Epoch 53, Loss: 0.17215661704540253\n",
      "Epoch 54, Loss: 0.1671202927827835\n",
      "Epoch 55, Loss: 0.16059426963329315\n",
      "Epoch 56, Loss: 0.15671338140964508\n",
      "Epoch 57, Loss: 0.15408731997013092\n",
      "Epoch 58, Loss: 0.15126629173755646\n",
      "Epoch 59, Loss: 0.1479812115430832\n",
      "Epoch 60, Loss: 0.14436356723308563\n",
      "Epoch 61, Loss: 0.14082878828048706\n",
      "Epoch 62, Loss: 0.13947142660617828\n",
      "Epoch 63, Loss: 0.13819895684719086\n",
      "Epoch 64, Loss: 0.1368163377046585\n",
      "Epoch 65, Loss: 0.13505114614963531\n",
      "Epoch 66, Loss: 0.13365282118320465\n",
      "Epoch 67, Loss: 0.1325003057718277\n",
      "Epoch 68, Loss: 0.13051651418209076\n",
      "Epoch 69, Loss: 0.12900227308273315\n",
      "Epoch 70, Loss: 0.1273830085992813\n",
      "Epoch 71, Loss: 0.12561731040477753\n",
      "Epoch 72, Loss: 0.12370119988918304\n",
      "Epoch 73, Loss: 0.12191127240657806\n",
      "Epoch 74, Loss: 0.11942251026630402\n",
      "Epoch 75, Loss: 0.11717751622200012\n",
      "Epoch 76, Loss: 0.11554920673370361\n",
      "Epoch 77, Loss: 0.11327303200960159\n",
      "Epoch 78, Loss: 0.11272120475769043\n",
      "Epoch 79, Loss: 0.11174137890338898\n",
      "Epoch 80, Loss: 0.11105673015117645\n",
      "Epoch 81, Loss: 0.11026707291603088\n",
      "Epoch 82, Loss: 0.10943244397640228\n",
      "Epoch 83, Loss: 0.10886898636817932\n",
      "Epoch 84, Loss: 0.10826965421438217\n",
      "Epoch 85, Loss: 0.10733415186405182\n",
      "Epoch 86, Loss: 0.10675306618213654\n",
      "Epoch 87, Loss: 0.1058284193277359\n",
      "Epoch 88, Loss: 0.1054382175207138\n",
      "Epoch 89, Loss: 0.10550180822610855\n",
      "Epoch 90, Loss: 0.10444904863834381\n",
      "Epoch 91, Loss: 0.1042470708489418\n",
      "Epoch 92, Loss: 0.1031891256570816\n",
      "Epoch 93, Loss: 0.10233470052480698\n",
      "Epoch 94, Loss: 0.10193312168121338\n",
      "Epoch 95, Loss: 0.10145866125822067\n",
      "Epoch 96, Loss: 0.10072750598192215\n",
      "Epoch 97, Loss: 0.10020025074481964\n",
      "Epoch 98, Loss: 0.09928073734045029\n",
      "Epoch 99, Loss: 0.097380131483078\n",
      "Epoch 100, Loss: 0.09623584151268005\n",
      "Epoch 101, Loss: 0.09564721584320068\n",
      "Epoch 102, Loss: 0.09481270611286163\n",
      "Epoch 103, Loss: 0.09451431035995483\n",
      "Epoch 104, Loss: 0.09412243962287903\n",
      "Epoch 105, Loss: 0.09387759119272232\n",
      "Epoch 106, Loss: 0.09340980648994446\n",
      "Epoch 107, Loss: 0.09306774288415909\n",
      "Epoch 108, Loss: 0.09276828169822693\n",
      "Epoch 109, Loss: 0.09215440601110458\n",
      "Epoch 110, Loss: 0.09216175228357315\n",
      "Epoch 111, Loss: 0.09144175797700882\n",
      "Epoch 112, Loss: 0.09119655191898346\n",
      "Epoch 113, Loss: 0.0910855308175087\n",
      "Epoch 114, Loss: 0.09001660346984863\n",
      "Epoch 115, Loss: 0.09045635163784027\n",
      "Epoch 116, Loss: 0.09035693854093552\n",
      "Epoch 117, Loss: 0.08997970074415207\n",
      "Epoch 118, Loss: 0.08988378942012787\n",
      "Epoch 119, Loss: 0.08880344033241272\n",
      "Epoch 120, Loss: 0.08927101641893387\n",
      "Epoch 121, Loss: 0.08907701075077057\n",
      "Epoch 122, Loss: 0.08867605775594711\n",
      "Epoch 123, Loss: 0.0880013182759285\n",
      "Epoch 124, Loss: 0.08780043572187424\n",
      "Epoch 125, Loss: 0.08782928436994553\n",
      "Epoch 126, Loss: 0.08696513622999191\n",
      "Epoch 127, Loss: 0.08706348389387131\n",
      "Epoch 128, Loss: 0.08636222779750824\n",
      "Epoch 129, Loss: 0.08655687421560287\n",
      "Epoch 130, Loss: 0.08579864352941513\n",
      "Epoch 131, Loss: 0.08585318177938461\n",
      "Epoch 132, Loss: 0.08534026890993118\n",
      "Epoch 133, Loss: 0.08558833599090576\n",
      "Epoch 134, Loss: 0.085243821144104\n",
      "Epoch 135, Loss: 0.08540504425764084\n",
      "Epoch 136, Loss: 0.08463882654905319\n",
      "Epoch 137, Loss: 0.08361946046352386\n",
      "Epoch 138, Loss: 0.08367154747247696\n",
      "Epoch 139, Loss: 0.08378969132900238\n",
      "Epoch 140, Loss: 0.08317094296216965\n",
      "Epoch 141, Loss: 0.08318674564361572\n",
      "Epoch 142, Loss: 0.08254758268594742\n",
      "Epoch 143, Loss: 0.08241177350282669\n",
      "Epoch 144, Loss: 0.0820268988609314\n",
      "Epoch 145, Loss: 0.08321580290794373\n",
      "Epoch 146, Loss: 0.08509082347154617\n",
      "Epoch 147, Loss: 0.08486460149288177\n",
      "Epoch 148, Loss: 0.0816769152879715\n",
      "Epoch 149, Loss: 0.08589459955692291\n",
      "Epoch 150, Loss: 0.08289015293121338\n",
      "Epoch 151, Loss: 0.08144638687372208\n",
      "Epoch 152, Loss: 0.0823950543999672\n",
      "Epoch 153, Loss: 0.08085697144269943\n",
      "Epoch 154, Loss: 0.08233321458101273\n",
      "Epoch 155, Loss: 0.07980713993310928\n",
      "Epoch 156, Loss: 0.08189567923545837\n",
      "Epoch 157, Loss: 0.07959672063589096\n",
      "Epoch 158, Loss: 0.08080273866653442\n",
      "Epoch 159, Loss: 0.07997050881385803\n",
      "Epoch 160, Loss: 0.07979046553373337\n",
      "Epoch 161, Loss: 0.07925243675708771\n",
      "Epoch 162, Loss: 0.07904653996229172\n",
      "Epoch 163, Loss: 0.07873470336198807\n",
      "Epoch 164, Loss: 0.07925186306238174\n",
      "Epoch 165, Loss: 0.07807464152574539\n",
      "Epoch 166, Loss: 0.07862713187932968\n",
      "Epoch 167, Loss: 0.0780288353562355\n",
      "Epoch 168, Loss: 0.07782164216041565\n",
      "Epoch 169, Loss: 0.07718823105096817\n",
      "Epoch 170, Loss: 0.07806035131216049\n",
      "Epoch 171, Loss: 0.07666512578725815\n",
      "Epoch 172, Loss: 0.07688474655151367\n",
      "Epoch 173, Loss: 0.07626840472221375\n",
      "Epoch 174, Loss: 0.07677383720874786\n",
      "Epoch 175, Loss: 0.07623574882745743\n",
      "Epoch 176, Loss: 0.076305091381073\n",
      "Epoch 177, Loss: 0.07600957900285721\n",
      "Epoch 178, Loss: 0.07583439350128174\n",
      "Epoch 179, Loss: 0.07556112110614777\n",
      "Epoch 180, Loss: 0.07526009529829025\n",
      "Epoch 181, Loss: 0.07542766630649567\n",
      "Epoch 182, Loss: 0.07510444521903992\n",
      "Epoch 183, Loss: 0.07535240054130554\n",
      "Epoch 184, Loss: 0.07931631058454514\n",
      "Epoch 185, Loss: 0.08715231716632843\n",
      "Epoch 186, Loss: 0.07741542160511017\n",
      "Epoch 187, Loss: 0.08029308170080185\n",
      "Epoch 188, Loss: 0.0796450674533844\n",
      "Epoch 189, Loss: 0.07953094691038132\n",
      "Epoch 190, Loss: 0.07853195071220398\n",
      "Epoch 191, Loss: 0.07602672278881073\n",
      "Epoch 192, Loss: 0.07849103957414627\n",
      "Epoch 193, Loss: 0.0758676528930664\n",
      "Epoch 194, Loss: 0.07748179882764816\n",
      "Epoch 195, Loss: 0.07545070350170135\n",
      "Epoch 196, Loss: 0.07558500021696091\n",
      "Epoch 197, Loss: 0.07485004514455795\n",
      "Epoch 198, Loss: 0.07653499394655228\n",
      "Epoch 199, Loss: 0.07396200299263\n",
      "Epoch 200, Loss: 0.0749703198671341\n",
      "Epoch 201, Loss: 0.07442674040794373\n",
      "Epoch 202, Loss: 0.07379968464374542\n",
      "Epoch 203, Loss: 0.07449346035718918\n",
      "Epoch 204, Loss: 0.07334083318710327\n",
      "Epoch 205, Loss: 0.07414612919092178\n",
      "Epoch 206, Loss: 0.07305911183357239\n",
      "Epoch 207, Loss: 0.07319983839988708\n",
      "Epoch 208, Loss: 0.0730983167886734\n",
      "Epoch 209, Loss: 0.07230275869369507\n",
      "Epoch 210, Loss: 0.07266777008771896\n",
      "Epoch 211, Loss: 0.07255235314369202\n",
      "Epoch 212, Loss: 0.07240600138902664\n",
      "Epoch 213, Loss: 0.07235091179609299\n",
      "Epoch 214, Loss: 0.07185708731412888\n",
      "Epoch 215, Loss: 0.07142499834299088\n",
      "Epoch 216, Loss: 0.07254773378372192\n",
      "Epoch 217, Loss: 0.07147365063428879\n",
      "Epoch 218, Loss: 0.07162721455097198\n",
      "Epoch 219, Loss: 0.07079850137233734\n",
      "Epoch 220, Loss: 0.07144507020711899\n",
      "Epoch 221, Loss: 0.07123255729675293\n",
      "Epoch 222, Loss: 0.07085814327001572\n",
      "Epoch 223, Loss: 0.07022999227046967\n",
      "Epoch 224, Loss: 0.07094404101371765\n",
      "Epoch 225, Loss: 0.07066645473241806\n",
      "Epoch 226, Loss: 0.07167191058397293\n",
      "Epoch 227, Loss: 0.07330735772848129\n",
      "Epoch 228, Loss: 0.0763627290725708\n",
      "Epoch 229, Loss: 0.07313555479049683\n",
      "Epoch 230, Loss: 0.07238063216209412\n",
      "Epoch 231, Loss: 0.07375948131084442\n",
      "Epoch 232, Loss: 0.07031847536563873\n",
      "Epoch 233, Loss: 0.07351864874362946\n",
      "Epoch 234, Loss: 0.07245857268571854\n",
      "Epoch 235, Loss: 0.07285264134407043\n",
      "Epoch 236, Loss: 0.07122138142585754\n",
      "Epoch 237, Loss: 0.0727689266204834\n",
      "Epoch 238, Loss: 0.0720900371670723\n",
      "Epoch 239, Loss: 0.07007358223199844\n",
      "Epoch 240, Loss: 0.0705026164650917\n",
      "Epoch 241, Loss: 0.07045834511518478\n",
      "Epoch 242, Loss: 0.07051796466112137\n",
      "Epoch 243, Loss: 0.06999708712100983\n",
      "Epoch 244, Loss: 0.07084117084741592\n",
      "Epoch 245, Loss: 0.07034172862768173\n",
      "Epoch 246, Loss: 0.07035281509160995\n",
      "Epoch 247, Loss: 0.07037326693534851\n",
      "Epoch 248, Loss: 0.06889621168375015\n",
      "Epoch 249, Loss: 0.06965594738721848\n",
      "Epoch 250, Loss: 0.07176846265792847\n",
      "Epoch 251, Loss: 0.07234377413988113\n",
      "Epoch 252, Loss: 0.07052434235811234\n",
      "Epoch 253, Loss: 0.07028010487556458\n",
      "Epoch 254, Loss: 0.07076762616634369\n",
      "Epoch 255, Loss: 0.06883978843688965\n",
      "Epoch 256, Loss: 0.06955536454916\n",
      "Epoch 257, Loss: 0.0697658360004425\n",
      "Epoch 258, Loss: 0.07013283669948578\n",
      "Epoch 259, Loss: 0.0685008242726326\n",
      "Epoch 260, Loss: 0.06931045651435852\n",
      "Epoch 261, Loss: 0.06867267936468124\n",
      "Epoch 262, Loss: 0.06851549446582794\n",
      "Epoch 263, Loss: 0.06841225177049637\n",
      "Epoch 264, Loss: 0.06790153682231903\n",
      "Epoch 265, Loss: 0.06820910423994064\n",
      "Epoch 266, Loss: 0.06760305166244507\n",
      "Epoch 267, Loss: 0.06777044385671616\n",
      "Epoch 268, Loss: 0.06738682836294174\n",
      "Epoch 269, Loss: 0.06803416460752487\n",
      "Epoch 270, Loss: 0.0673242136836052\n",
      "Epoch 271, Loss: 0.06721290946006775\n",
      "Epoch 272, Loss: 0.0669855996966362\n",
      "Epoch 273, Loss: 0.0676809772849083\n",
      "Epoch 274, Loss: 0.06815755367279053\n",
      "Epoch 275, Loss: 0.07240623235702515\n",
      "Epoch 276, Loss: 0.07028863579034805\n",
      "Epoch 277, Loss: 0.06983330845832825\n",
      "Epoch 278, Loss: 0.06904656440019608\n",
      "Epoch 279, Loss: 0.06893908232450485\n",
      "Epoch 280, Loss: 0.06768705695867538\n",
      "Epoch 281, Loss: 0.06774837523698807\n",
      "Epoch 282, Loss: 0.067430779337883\n",
      "Epoch 283, Loss: 0.06806620955467224\n",
      "Epoch 284, Loss: 0.06838986277580261\n",
      "Epoch 285, Loss: 0.06904705613851547\n",
      "Epoch 286, Loss: 0.06710464507341385\n",
      "Epoch 287, Loss: 0.06820236146450043\n",
      "Epoch 288, Loss: 0.06805574148893356\n",
      "Epoch 289, Loss: 0.06580904871225357\n",
      "Epoch 290, Loss: 0.06889977306127548\n",
      "Epoch 291, Loss: 0.07377486675977707\n",
      "Epoch 292, Loss: 0.07152346521615982\n",
      "Epoch 293, Loss: 0.0675111711025238\n",
      "Epoch 294, Loss: 0.07041174173355103\n",
      "Epoch 295, Loss: 0.0681229829788208\n",
      "Epoch 296, Loss: 0.06843061745166779\n",
      "Epoch 297, Loss: 0.06774560362100601\n",
      "Epoch 298, Loss: 0.0665401890873909\n",
      "Epoch 299, Loss: 0.06933992356061935\n",
      "Epoch 300, Loss: 0.06786902248859406\n",
      "Epoch 301, Loss: 0.06610308587551117\n",
      "Epoch 302, Loss: 0.06754383444786072\n",
      "Epoch 303, Loss: 0.0663115605711937\n",
      "Epoch 304, Loss: 0.06689691543579102\n",
      "Epoch 305, Loss: 0.06621459871530533\n",
      "Epoch 306, Loss: 0.06585944443941116\n",
      "Epoch 307, Loss: 0.0653955265879631\n",
      "Epoch 308, Loss: 0.06575283408164978\n",
      "Epoch 309, Loss: 0.06594406813383102\n",
      "Epoch 310, Loss: 0.06600639969110489\n",
      "Epoch 311, Loss: 0.06518411636352539\n",
      "Epoch 312, Loss: 0.06565798074007034\n",
      "Epoch 313, Loss: 0.06501361727714539\n",
      "Epoch 314, Loss: 0.06507714092731476\n",
      "Epoch 315, Loss: 0.06466508656740189\n",
      "Epoch 316, Loss: 0.06472989916801453\n",
      "Epoch 317, Loss: 0.06495984643697739\n",
      "Epoch 318, Loss: 0.0646592527627945\n",
      "Epoch 319, Loss: 0.06454399228096008\n",
      "Epoch 320, Loss: 0.06523198634386063\n",
      "Epoch 321, Loss: 0.06488294154405594\n",
      "Epoch 322, Loss: 0.06522481143474579\n",
      "Epoch 323, Loss: 0.06424233317375183\n",
      "Epoch 324, Loss: 0.06417160481214523\n",
      "Epoch 325, Loss: 0.06538631021976471\n",
      "Epoch 326, Loss: 0.06966676563024521\n",
      "Epoch 327, Loss: 0.07275906950235367\n",
      "Epoch 328, Loss: 0.06868553161621094\n",
      "Epoch 329, Loss: 0.06633646786212921\n",
      "Epoch 330, Loss: 0.06905290484428406\n",
      "Epoch 331, Loss: 0.06523342430591583\n",
      "Epoch 332, Loss: 0.06759649515151978\n",
      "Epoch 333, Loss: 0.0663982704281807\n",
      "Epoch 334, Loss: 0.06574226170778275\n",
      "Epoch 335, Loss: 0.06648937612771988\n",
      "Epoch 336, Loss: 0.06635024398565292\n",
      "Epoch 337, Loss: 0.06405720114707947\n",
      "Epoch 338, Loss: 0.06530200690031052\n",
      "Epoch 339, Loss: 0.06526993215084076\n",
      "Epoch 340, Loss: 0.06457236409187317\n",
      "Epoch 341, Loss: 0.06438828259706497\n",
      "Epoch 342, Loss: 0.0634455531835556\n",
      "Epoch 343, Loss: 0.06484071910381317\n",
      "Epoch 344, Loss: 0.06406565010547638\n",
      "Epoch 345, Loss: 0.06364407390356064\n",
      "Epoch 346, Loss: 0.0633670911192894\n",
      "Epoch 347, Loss: 0.06335785239934921\n",
      "Epoch 348, Loss: 0.06379852443933487\n",
      "Epoch 349, Loss: 0.06318835914134979\n",
      "Epoch 350, Loss: 0.06289521604776382\n",
      "Epoch 351, Loss: 0.06323809176683426\n",
      "Epoch 352, Loss: 0.06332332640886307\n",
      "Epoch 353, Loss: 0.06424017250537872\n",
      "Epoch 354, Loss: 0.06631059944629669\n",
      "Epoch 355, Loss: 0.06718818843364716\n",
      "Epoch 356, Loss: 0.06401334702968597\n",
      "Epoch 357, Loss: 0.06539637595415115\n",
      "Epoch 358, Loss: 0.06630776077508926\n",
      "Epoch 359, Loss: 0.06281483918428421\n",
      "Epoch 360, Loss: 0.06614835560321808\n",
      "Epoch 361, Loss: 0.06801702082157135\n",
      "Epoch 362, Loss: 0.0652870386838913\n",
      "Epoch 363, Loss: 0.06270866096019745\n",
      "Epoch 364, Loss: 0.06381412595510483\n",
      "Epoch 365, Loss: 0.06389391422271729\n",
      "Epoch 366, Loss: 0.06365340203046799\n",
      "Epoch 367, Loss: 0.063259556889534\n",
      "Epoch 368, Loss: 0.06291055679321289\n",
      "Epoch 369, Loss: 0.06250441074371338\n",
      "Epoch 370, Loss: 0.06312668323516846\n",
      "Epoch 371, Loss: 0.06226722523570061\n",
      "Epoch 372, Loss: 0.06247043237090111\n",
      "Epoch 373, Loss: 0.062050364911556244\n",
      "Epoch 374, Loss: 0.062185995280742645\n",
      "Epoch 375, Loss: 0.062134962528944016\n",
      "Epoch 376, Loss: 0.061693672090768814\n",
      "Epoch 377, Loss: 0.06200820952653885\n",
      "Epoch 378, Loss: 0.061517857015132904\n",
      "Epoch 379, Loss: 0.06163853034377098\n",
      "Epoch 380, Loss: 0.061280105262994766\n",
      "Epoch 381, Loss: 0.0612347386777401\n",
      "Epoch 382, Loss: 0.06135768070816994\n",
      "Epoch 383, Loss: 0.06087125837802887\n",
      "Epoch 384, Loss: 0.06107912212610245\n",
      "Epoch 385, Loss: 0.061047885566949844\n",
      "Epoch 386, Loss: 0.061231885105371475\n",
      "Epoch 387, Loss: 0.06275156885385513\n",
      "Epoch 388, Loss: 0.06664648652076721\n",
      "Epoch 389, Loss: 0.07070167362689972\n",
      "Epoch 390, Loss: 0.06940770894289017\n",
      "Epoch 391, Loss: 0.06456752121448517\n",
      "Epoch 392, Loss: 0.06855780631303787\n",
      "Epoch 393, Loss: 0.06394509226083755\n",
      "Epoch 394, Loss: 0.06645428389310837\n",
      "Epoch 395, Loss: 0.06286539882421494\n",
      "Epoch 396, Loss: 0.06531088799238205\n",
      "Epoch 397, Loss: 0.06556025892496109\n",
      "Epoch 398, Loss: 0.06326612085103989\n",
      "Epoch 399, Loss: 0.063637375831604\n",
      "Epoch 400, Loss: 0.06211034208536148\n",
      "Epoch 401, Loss: 0.0636400356888771\n",
      "Epoch 402, Loss: 0.06305726617574692\n",
      "Epoch 403, Loss: 0.06288598477840424\n",
      "Epoch 404, Loss: 0.06309401988983154\n",
      "Epoch 405, Loss: 0.061552200466394424\n",
      "Epoch 406, Loss: 0.06131425499916077\n",
      "Epoch 407, Loss: 0.061820462346076965\n",
      "Epoch 408, Loss: 0.061321329325437546\n",
      "Epoch 409, Loss: 0.06149578467011452\n",
      "Epoch 410, Loss: 0.061152681708335876\n",
      "Epoch 411, Loss: 0.060968417674303055\n",
      "Epoch 412, Loss: 0.061004556715488434\n",
      "Epoch 413, Loss: 0.060379672795534134\n",
      "Epoch 414, Loss: 0.06093752756714821\n",
      "Epoch 415, Loss: 0.060267262160778046\n",
      "Epoch 416, Loss: 0.06066225841641426\n",
      "Epoch 417, Loss: 0.06014931574463844\n",
      "Epoch 418, Loss: 0.06012555956840515\n",
      "Epoch 419, Loss: 0.059889357537031174\n",
      "Epoch 420, Loss: 0.05971775949001312\n",
      "Epoch 421, Loss: 0.05962572246789932\n",
      "Epoch 422, Loss: 0.0598425567150116\n",
      "Epoch 423, Loss: 0.059736188501119614\n",
      "Epoch 424, Loss: 0.059961508959531784\n",
      "Epoch 425, Loss: 0.06023769453167915\n",
      "Epoch 426, Loss: 0.06176767498254776\n",
      "Epoch 427, Loss: 0.0653517097234726\n",
      "Epoch 428, Loss: 0.07093546539545059\n",
      "Epoch 429, Loss: 0.06741964817047119\n",
      "Epoch 430, Loss: 0.06325443834066391\n",
      "Epoch 431, Loss: 0.06553314626216888\n",
      "Epoch 432, Loss: 0.06284443289041519\n",
      "Epoch 433, Loss: 0.06479841470718384\n",
      "Epoch 434, Loss: 0.06119883805513382\n",
      "Epoch 435, Loss: 0.06428129225969315\n",
      "Epoch 436, Loss: 0.06246713548898697\n",
      "Epoch 437, Loss: 0.06195539981126785\n",
      "Epoch 438, Loss: 0.06220317259430885\n",
      "Epoch 439, Loss: 0.05988883599638939\n",
      "Epoch 440, Loss: 0.06087041273713112\n",
      "Epoch 441, Loss: 0.06112459674477577\n",
      "Epoch 442, Loss: 0.06029201298952103\n",
      "Epoch 443, Loss: 0.06044301018118858\n",
      "Epoch 444, Loss: 0.06032780930399895\n",
      "Epoch 445, Loss: 0.05961921066045761\n",
      "Epoch 446, Loss: 0.060028862208127975\n",
      "Epoch 447, Loss: 0.059234458953142166\n",
      "Epoch 448, Loss: 0.05965658649802208\n",
      "Epoch 449, Loss: 0.05936369299888611\n",
      "Epoch 450, Loss: 0.05979488417506218\n",
      "Epoch 451, Loss: 0.05900825187563896\n",
      "Epoch 452, Loss: 0.05908874422311783\n",
      "Epoch 453, Loss: 0.059026770293712616\n",
      "Epoch 454, Loss: 0.05871286615729332\n",
      "Epoch 455, Loss: 0.05919754505157471\n",
      "Epoch 456, Loss: 0.05864151567220688\n",
      "Epoch 457, Loss: 0.0598275288939476\n",
      "Epoch 458, Loss: 0.06232273206114769\n",
      "Epoch 459, Loss: 0.06613922119140625\n",
      "Epoch 460, Loss: 0.06401900202035904\n",
      "Epoch 461, Loss: 0.060148078948259354\n",
      "Epoch 462, Loss: 0.06182492896914482\n",
      "Epoch 463, Loss: 0.06108725070953369\n",
      "Epoch 464, Loss: 0.05892810598015785\n",
      "Epoch 465, Loss: 0.06153199449181557\n",
      "Epoch 466, Loss: 0.061506520956754684\n",
      "Epoch 467, Loss: 0.05897539108991623\n",
      "Epoch 468, Loss: 0.06047205626964569\n",
      "Epoch 469, Loss: 0.06011604890227318\n",
      "Epoch 470, Loss: 0.058991238474845886\n",
      "Epoch 471, Loss: 0.05984315648674965\n",
      "Epoch 472, Loss: 0.05878627672791481\n",
      "Epoch 473, Loss: 0.0587141178548336\n",
      "Epoch 474, Loss: 0.060285646468400955\n",
      "Epoch 475, Loss: 0.06216001510620117\n",
      "Epoch 476, Loss: 0.06013856455683708\n",
      "Epoch 477, Loss: 0.05812317878007889\n",
      "Epoch 478, Loss: 0.05936669185757637\n",
      "Epoch 479, Loss: 0.05917222797870636\n",
      "Epoch 480, Loss: 0.05835743993520737\n",
      "Epoch 481, Loss: 0.058113619685173035\n",
      "Epoch 482, Loss: 0.059153877198696136\n",
      "Epoch 483, Loss: 0.061245083808898926\n",
      "Epoch 484, Loss: 0.06054562330245972\n",
      "Epoch 485, Loss: 0.05853201076388359\n",
      "Epoch 486, Loss: 0.05837593972682953\n",
      "Epoch 487, Loss: 0.059180669486522675\n",
      "Epoch 488, Loss: 0.05934326350688934\n",
      "Epoch 489, Loss: 0.058339543640613556\n",
      "Epoch 490, Loss: 0.058103933930397034\n",
      "Epoch 491, Loss: 0.060045622289180756\n",
      "Epoch 492, Loss: 0.058395273983478546\n",
      "Epoch 493, Loss: 0.05758494883775711\n",
      "Epoch 494, Loss: 0.05779268220067024\n",
      "Epoch 495, Loss: 0.05807815492153168\n",
      "Epoch 496, Loss: 0.05745425075292587\n",
      "Epoch 497, Loss: 0.05720271170139313\n",
      "Epoch 498, Loss: 0.05734081566333771\n",
      "Epoch 499, Loss: 0.057554394006729126\n",
      "Epoch 500, Loss: 0.057461872696876526\n",
      "Epoch 501, Loss: 0.05738690495491028\n",
      "Epoch 502, Loss: 0.05768270790576935\n",
      "Epoch 503, Loss: 0.057371847331523895\n",
      "Epoch 504, Loss: 0.057001225650310516\n",
      "Epoch 505, Loss: 0.056714124977588654\n",
      "Epoch 506, Loss: 0.05693049356341362\n",
      "Epoch 507, Loss: 0.05709487199783325\n",
      "Epoch 508, Loss: 0.05882473662495613\n",
      "Epoch 509, Loss: 0.06303757429122925\n",
      "Epoch 510, Loss: 0.07404377311468124\n",
      "Epoch 511, Loss: 0.07161558419466019\n",
      "Epoch 512, Loss: 0.06051903963088989\n",
      "Epoch 513, Loss: 0.06821541488170624\n",
      "Epoch 514, Loss: 0.06125272437930107\n",
      "Epoch 515, Loss: 0.0660620629787445\n",
      "Epoch 516, Loss: 0.059824518859386444\n",
      "Epoch 517, Loss: 0.06439831852912903\n",
      "Epoch 518, Loss: 0.06063121184706688\n",
      "Epoch 519, Loss: 0.06193721666932106\n",
      "Epoch 520, Loss: 0.060954395681619644\n",
      "Epoch 521, Loss: 0.059528447687625885\n",
      "Epoch 522, Loss: 0.05947096273303032\n",
      "Epoch 523, Loss: 0.06072232872247696\n",
      "Epoch 524, Loss: 0.0595226064324379\n",
      "Epoch 525, Loss: 0.06027557700872421\n",
      "Epoch 526, Loss: 0.05933649465441704\n",
      "Epoch 527, Loss: 0.057772256433963776\n",
      "Epoch 528, Loss: 0.058421485126018524\n",
      "Epoch 529, Loss: 0.058265674859285355\n",
      "Epoch 530, Loss: 0.05775000900030136\n",
      "Epoch 531, Loss: 0.057452235370874405\n",
      "Epoch 532, Loss: 0.05706337094306946\n",
      "Epoch 533, Loss: 0.057990312576293945\n",
      "Epoch 534, Loss: 0.0570845901966095\n",
      "Epoch 535, Loss: 0.05716549977660179\n",
      "Epoch 536, Loss: 0.05735989287495613\n",
      "Epoch 537, Loss: 0.05632663518190384\n",
      "Epoch 538, Loss: 0.056835245341062546\n",
      "Epoch 539, Loss: 0.055963288992643356\n",
      "Epoch 540, Loss: 0.05664580687880516\n",
      "Epoch 541, Loss: 0.056320227682590485\n",
      "Epoch 542, Loss: 0.05629723519086838\n",
      "Epoch 543, Loss: 0.05589016526937485\n",
      "Epoch 544, Loss: 0.05601770430803299\n",
      "Epoch 545, Loss: 0.05608176440000534\n",
      "Epoch 546, Loss: 0.05655023083090782\n",
      "Epoch 547, Loss: 0.056699831038713455\n",
      "Epoch 548, Loss: 0.0566839762032032\n",
      "Epoch 549, Loss: 0.05656004324555397\n",
      "Epoch 550, Loss: 0.05605900287628174\n",
      "Epoch 551, Loss: 0.05582614615559578\n",
      "Epoch 552, Loss: 0.05571433901786804\n",
      "Epoch 553, Loss: 0.05516662076115608\n",
      "Epoch 554, Loss: 0.0553058385848999\n",
      "Epoch 555, Loss: 0.05568545311689377\n",
      "Epoch 556, Loss: 0.05519954487681389\n",
      "Epoch 557, Loss: 0.0553581602871418\n",
      "Epoch 558, Loss: 0.05587393417954445\n",
      "Epoch 559, Loss: 0.05585456266999245\n",
      "Epoch 560, Loss: 0.06025921180844307\n",
      "Epoch 561, Loss: 0.07321717590093613\n",
      "Epoch 562, Loss: 0.07094302773475647\n",
      "Epoch 563, Loss: 0.0628574937582016\n",
      "Epoch 564, Loss: 0.06611544638872147\n",
      "Epoch 565, Loss: 0.062115930020809174\n",
      "Epoch 566, Loss: 0.06522341072559357\n",
      "Epoch 567, Loss: 0.061260443180799484\n",
      "Epoch 568, Loss: 0.06414386630058289\n",
      "Epoch 569, Loss: 0.06188376247882843\n",
      "Epoch 570, Loss: 0.06444519758224487\n",
      "Epoch 571, Loss: 0.05930234491825104\n",
      "Epoch 572, Loss: 0.0643460601568222\n",
      "Epoch 573, Loss: 0.059320639818906784\n",
      "Epoch 574, Loss: 0.06298764795064926\n",
      "Epoch 575, Loss: 0.05903898552060127\n",
      "Epoch 576, Loss: 0.061045967042446136\n",
      "Epoch 577, Loss: 0.058967527002096176\n",
      "Epoch 578, Loss: 0.05876009911298752\n",
      "Epoch 579, Loss: 0.058913297951221466\n",
      "Epoch 580, Loss: 0.05847557634115219\n",
      "Epoch 581, Loss: 0.05726351588964462\n",
      "Epoch 582, Loss: 0.05794878304004669\n",
      "Epoch 583, Loss: 0.0571148656308651\n",
      "Epoch 584, Loss: 0.0572432205080986\n",
      "Epoch 585, Loss: 0.05645035579800606\n",
      "Epoch 586, Loss: 0.05698294937610626\n",
      "Epoch 587, Loss: 0.056097161024808884\n",
      "Epoch 588, Loss: 0.05582618713378906\n",
      "Epoch 589, Loss: 0.05673762410879135\n",
      "Epoch 590, Loss: 0.0559488981962204\n",
      "Epoch 591, Loss: 0.05549865961074829\n",
      "Epoch 592, Loss: 0.055245138704776764\n",
      "Epoch 593, Loss: 0.05541492998600006\n",
      "Epoch 594, Loss: 0.05567101761698723\n",
      "Epoch 595, Loss: 0.05547242611646652\n",
      "Epoch 596, Loss: 0.054551463574171066\n",
      "Epoch 597, Loss: 0.05516860634088516\n",
      "Epoch 598, Loss: 0.05529157444834709\n",
      "Epoch 599, Loss: 0.055229391902685165\n",
      "Epoch 600, Loss: 0.05566631257534027\n",
      "Epoch 601, Loss: 0.055606961250305176\n",
      "Epoch 602, Loss: 0.05474814400076866\n",
      "Epoch 603, Loss: 0.054461222141981125\n",
      "Epoch 604, Loss: 0.05455351993441582\n",
      "Epoch 605, Loss: 0.0546853169798851\n",
      "Epoch 606, Loss: 0.05521886795759201\n",
      "Epoch 607, Loss: 0.05574343353509903\n",
      "Epoch 608, Loss: 0.059980012476444244\n",
      "Epoch 609, Loss: 0.06356421113014221\n",
      "Epoch 610, Loss: 0.06534626334905624\n",
      "Epoch 611, Loss: 0.0577862411737442\n",
      "Epoch 612, Loss: 0.06142408773303032\n",
      "Epoch 613, Loss: 0.05927262082695961\n",
      "Epoch 614, Loss: 0.05784429982304573\n",
      "Epoch 615, Loss: 0.060157887637615204\n",
      "Epoch 616, Loss: 0.056653767824172974\n",
      "Epoch 617, Loss: 0.05879740044474602\n",
      "Epoch 618, Loss: 0.05607506260275841\n",
      "Epoch 619, Loss: 0.05810001492500305\n",
      "Epoch 620, Loss: 0.056662920862436295\n",
      "Epoch 621, Loss: 0.056892458349466324\n",
      "Epoch 622, Loss: 0.05574914813041687\n",
      "Epoch 623, Loss: 0.05573666840791702\n",
      "Epoch 624, Loss: 0.05595075711607933\n",
      "Epoch 625, Loss: 0.05520814284682274\n",
      "Epoch 626, Loss: 0.056097447872161865\n",
      "Epoch 627, Loss: 0.05531091243028641\n",
      "Epoch 628, Loss: 0.05516568943858147\n",
      "Epoch 629, Loss: 0.05494460463523865\n",
      "Epoch 630, Loss: 0.056316111236810684\n",
      "Epoch 631, Loss: 0.05468139797449112\n",
      "Epoch 632, Loss: 0.05468104034662247\n",
      "Epoch 633, Loss: 0.05658004805445671\n",
      "Epoch 634, Loss: 0.05564161390066147\n",
      "Epoch 635, Loss: 0.05465130880475044\n",
      "Epoch 636, Loss: 0.054216496646404266\n",
      "Epoch 637, Loss: 0.05494575947523117\n",
      "Epoch 638, Loss: 0.05770380422472954\n",
      "Epoch 639, Loss: 0.05655109882354736\n",
      "Epoch 640, Loss: 0.05605752021074295\n",
      "Epoch 641, Loss: 0.053781021386384964\n",
      "Epoch 642, Loss: 0.055530376732349396\n",
      "Epoch 643, Loss: 0.05784009024500847\n",
      "Epoch 644, Loss: 0.05479303002357483\n",
      "Epoch 645, Loss: 0.05384793132543564\n",
      "Epoch 646, Loss: 0.05603973940014839\n",
      "Epoch 647, Loss: 0.054163843393325806\n",
      "Epoch 648, Loss: 0.054538700729608536\n",
      "Epoch 649, Loss: 0.05539422482252121\n",
      "Epoch 650, Loss: 0.05370301753282547\n",
      "Epoch 651, Loss: 0.05412479117512703\n",
      "Epoch 652, Loss: 0.054690465331077576\n",
      "Epoch 653, Loss: 0.05381273850798607\n",
      "Epoch 654, Loss: 0.05336616188287735\n",
      "Epoch 655, Loss: 0.05402173474431038\n",
      "Epoch 656, Loss: 0.05380020663142204\n",
      "Epoch 657, Loss: 0.05351472645998001\n",
      "Epoch 658, Loss: 0.05406046286225319\n",
      "Epoch 659, Loss: 0.0528806708753109\n",
      "Epoch 660, Loss: 0.05330107733607292\n",
      "Epoch 661, Loss: 0.05382828414440155\n",
      "Epoch 662, Loss: 0.054160282015800476\n",
      "Epoch 663, Loss: 0.05567019805312157\n",
      "Epoch 664, Loss: 0.055420368909835815\n",
      "Epoch 665, Loss: 0.05816218629479408\n",
      "Epoch 666, Loss: 0.06215309351682663\n",
      "Epoch 667, Loss: 0.06795395910739899\n",
      "Epoch 668, Loss: 0.0630384013056755\n",
      "Epoch 669, Loss: 0.05597071349620819\n",
      "Epoch 670, Loss: 0.059429001063108444\n",
      "Epoch 671, Loss: 0.055904094129800797\n",
      "Epoch 672, Loss: 0.05721881985664368\n",
      "Epoch 673, Loss: 0.05659429356455803\n",
      "Epoch 674, Loss: 0.05746451020240784\n",
      "Epoch 675, Loss: 0.05603973567485809\n",
      "Epoch 676, Loss: 0.055541444569826126\n",
      "Epoch 677, Loss: 0.05675539746880531\n",
      "Epoch 678, Loss: 0.054673656821250916\n",
      "Epoch 679, Loss: 0.05529024079442024\n",
      "Epoch 680, Loss: 0.054892804473638535\n",
      "Epoch 681, Loss: 0.05518246442079544\n",
      "Epoch 682, Loss: 0.05483204871416092\n",
      "Epoch 683, Loss: 0.05436445772647858\n",
      "Epoch 684, Loss: 0.05402636528015137\n",
      "Epoch 685, Loss: 0.05407431721687317\n",
      "Epoch 686, Loss: 0.05341292545199394\n",
      "Epoch 687, Loss: 0.05350533127784729\n",
      "Epoch 688, Loss: 0.053645581007003784\n",
      "Epoch 689, Loss: 0.05359989404678345\n",
      "Epoch 690, Loss: 0.0527292937040329\n",
      "Epoch 691, Loss: 0.05335298925638199\n",
      "Epoch 692, Loss: 0.05285787209868431\n",
      "Epoch 693, Loss: 0.05284113064408302\n",
      "Epoch 694, Loss: 0.05362397059798241\n",
      "Epoch 695, Loss: 0.05374406650662422\n",
      "Epoch 696, Loss: 0.055362991988658905\n",
      "Epoch 697, Loss: 0.05634721741080284\n",
      "Epoch 698, Loss: 0.058555491268634796\n",
      "Epoch 699, Loss: 0.056206803768873215\n",
      "Epoch 700, Loss: 0.05381203815340996\n",
      "Epoch 701, Loss: 0.053099375218153\n",
      "Epoch 702, Loss: 0.05578788369894028\n",
      "Epoch 703, Loss: 0.05660630762577057\n",
      "Epoch 704, Loss: 0.05281504988670349\n",
      "Epoch 705, Loss: 0.05500290170311928\n",
      "Epoch 706, Loss: 0.059293728321790695\n",
      "Epoch 707, Loss: 0.053452201187610626\n",
      "Epoch 708, Loss: 0.05675865337252617\n",
      "Epoch 709, Loss: 0.06461396813392639\n",
      "Epoch 710, Loss: 0.052857331931591034\n",
      "Epoch 711, Loss: 0.0630938783288002\n",
      "Epoch 712, Loss: 0.06970446556806564\n",
      "Epoch 713, Loss: 0.05680341273546219\n",
      "Epoch 714, Loss: 0.0651111751794815\n",
      "Epoch 715, Loss: 0.05631238594651222\n",
      "Epoch 716, Loss: 0.06135782599449158\n",
      "Epoch 717, Loss: 0.05622134357690811\n",
      "Epoch 718, Loss: 0.059939295053482056\n",
      "Epoch 719, Loss: 0.05497703701257706\n",
      "Epoch 720, Loss: 0.05746849626302719\n",
      "Epoch 721, Loss: 0.05674002319574356\n",
      "Epoch 722, Loss: 0.056098710745573044\n",
      "Epoch 723, Loss: 0.055157989263534546\n",
      "Epoch 724, Loss: 0.05545875057578087\n",
      "Epoch 725, Loss: 0.054066553711891174\n",
      "Epoch 726, Loss: 0.05541976913809776\n",
      "Epoch 727, Loss: 0.05372775346040726\n",
      "Epoch 728, Loss: 0.05381428450345993\n",
      "Epoch 729, Loss: 0.05374130234122276\n",
      "Epoch 730, Loss: 0.053934529423713684\n",
      "Epoch 731, Loss: 0.05337577685713768\n",
      "Epoch 732, Loss: 0.053161896765232086\n",
      "Epoch 733, Loss: 0.053207751363515854\n",
      "Epoch 734, Loss: 0.052637554705142975\n",
      "Epoch 735, Loss: 0.05316906049847603\n",
      "Epoch 736, Loss: 0.05306883528828621\n",
      "Epoch 737, Loss: 0.052848733961582184\n",
      "Epoch 738, Loss: 0.05215160548686981\n",
      "Epoch 739, Loss: 0.052549947053194046\n",
      "Epoch 740, Loss: 0.052975546568632126\n",
      "Epoch 741, Loss: 0.05228738859295845\n",
      "Epoch 742, Loss: 0.05201496556401253\n",
      "Epoch 743, Loss: 0.05272863805294037\n",
      "Epoch 744, Loss: 0.05217437073588371\n",
      "Epoch 745, Loss: 0.05159519240260124\n",
      "Epoch 746, Loss: 0.051775410771369934\n",
      "Epoch 747, Loss: 0.05146927386522293\n",
      "Epoch 748, Loss: 0.05234581232070923\n",
      "Epoch 749, Loss: 0.05244939401745796\n",
      "Epoch 750, Loss: 0.05269404500722885\n",
      "Epoch 751, Loss: 0.05241763964295387\n",
      "Epoch 752, Loss: 0.05160247161984444\n",
      "Epoch 753, Loss: 0.05104977265000343\n",
      "Epoch 754, Loss: 0.05163833126425743\n",
      "Epoch 755, Loss: 0.05251450464129448\n",
      "Epoch 756, Loss: 0.05270972475409508\n",
      "Epoch 757, Loss: 0.053305260837078094\n",
      "Epoch 758, Loss: 0.0525677390396595\n",
      "Epoch 759, Loss: 0.05155528336763382\n",
      "Epoch 760, Loss: 0.050988394767045975\n",
      "Epoch 761, Loss: 0.05166691914200783\n",
      "Epoch 762, Loss: 0.053097330033779144\n",
      "Epoch 763, Loss: 0.052701257169246674\n",
      "Epoch 764, Loss: 0.05421708896756172\n",
      "Epoch 765, Loss: 0.052149128168821335\n",
      "Epoch 766, Loss: 0.051058489829301834\n",
      "Epoch 767, Loss: 0.05125340819358826\n",
      "Epoch 768, Loss: 0.052415188401937485\n",
      "Epoch 769, Loss: 0.05488552153110504\n",
      "Epoch 770, Loss: 0.053910862654447556\n",
      "Epoch 771, Loss: 0.054295770823955536\n",
      "Epoch 772, Loss: 0.05168168246746063\n",
      "Epoch 773, Loss: 0.05184721574187279\n",
      "Epoch 774, Loss: 0.05453801527619362\n",
      "Epoch 775, Loss: 0.05321400985121727\n",
      "Epoch 776, Loss: 0.051762860268354416\n",
      "Epoch 777, Loss: 0.05089458078145981\n",
      "Epoch 778, Loss: 0.05155998840928078\n",
      "Epoch 779, Loss: 0.05336682125926018\n",
      "Epoch 780, Loss: 0.05087427422404289\n",
      "Epoch 781, Loss: 0.050413329154253006\n",
      "Epoch 782, Loss: 0.05117326229810715\n",
      "Epoch 783, Loss: 0.05233079940080643\n",
      "Epoch 784, Loss: 0.05545058846473694\n",
      "Epoch 785, Loss: 0.054359737783670425\n",
      "Epoch 786, Loss: 0.053810715675354004\n",
      "Epoch 787, Loss: 0.05142960697412491\n",
      "Epoch 788, Loss: 0.05328598991036415\n",
      "Epoch 789, Loss: 0.058519840240478516\n",
      "Epoch 790, Loss: 0.05267610773444176\n",
      "Epoch 791, Loss: 0.05168631300330162\n",
      "Epoch 792, Loss: 0.05353408306837082\n",
      "Epoch 793, Loss: 0.0519564226269722\n",
      "Epoch 794, Loss: 0.051068343222141266\n",
      "Epoch 795, Loss: 0.05142409726977348\n",
      "Epoch 796, Loss: 0.052350062876939774\n",
      "Epoch 797, Loss: 0.05205715447664261\n",
      "Epoch 798, Loss: 0.051449697464704514\n",
      "Epoch 799, Loss: 0.05099707096815109\n",
      "Epoch 800, Loss: 0.05185408517718315\n",
      "Epoch 801, Loss: 0.05097253620624542\n",
      "Epoch 802, Loss: 0.05081254988908768\n",
      "Epoch 803, Loss: 0.050271689891815186\n",
      "Epoch 804, Loss: 0.051370374858379364\n",
      "Epoch 805, Loss: 0.05199349299073219\n",
      "Epoch 806, Loss: 0.05190885439515114\n",
      "Epoch 807, Loss: 0.05191995948553085\n",
      "Epoch 808, Loss: 0.051764652132987976\n",
      "Epoch 809, Loss: 0.05050552263855934\n",
      "Epoch 810, Loss: 0.05098607763648033\n",
      "Epoch 811, Loss: 0.050463419407606125\n",
      "Epoch 812, Loss: 0.05052580684423447\n",
      "Epoch 813, Loss: 0.05046134442090988\n",
      "Epoch 814, Loss: 0.05051900073885918\n",
      "Epoch 815, Loss: 0.05014873668551445\n",
      "Epoch 816, Loss: 0.050410978496074677\n",
      "Epoch 817, Loss: 0.050070587545633316\n",
      "Epoch 818, Loss: 0.05015898868441582\n",
      "Epoch 819, Loss: 0.04984631389379501\n",
      "Epoch 820, Loss: 0.04997865855693817\n",
      "Epoch 821, Loss: 0.05069129168987274\n",
      "Epoch 822, Loss: 0.05267772451043129\n",
      "Epoch 823, Loss: 0.05758718401193619\n",
      "Epoch 824, Loss: 0.08124718815088272\n",
      "Epoch 825, Loss: 0.06915580481290817\n",
      "Epoch 826, Loss: 0.060637202113866806\n",
      "Epoch 827, Loss: 0.06862025707960129\n",
      "Epoch 828, Loss: 0.05680340528488159\n",
      "Epoch 829, Loss: 0.06602243334054947\n",
      "Epoch 830, Loss: 0.05557332560420036\n",
      "Epoch 831, Loss: 0.06232322007417679\n",
      "Epoch 832, Loss: 0.05780356004834175\n",
      "Epoch 833, Loss: 0.05771021917462349\n",
      "Epoch 834, Loss: 0.05940950661897659\n",
      "Epoch 835, Loss: 0.05610441416501999\n",
      "Epoch 836, Loss: 0.05684800446033478\n",
      "Epoch 837, Loss: 0.05635959655046463\n",
      "Epoch 838, Loss: 0.05516507849097252\n",
      "Epoch 839, Loss: 0.05448604002594948\n",
      "Epoch 840, Loss: 0.05657370761036873\n",
      "Epoch 841, Loss: 0.053783584386110306\n",
      "Epoch 842, Loss: 0.05501158535480499\n",
      "Epoch 843, Loss: 0.05279253050684929\n",
      "Epoch 844, Loss: 0.05361678823828697\n",
      "Epoch 845, Loss: 0.05263812839984894\n",
      "Epoch 846, Loss: 0.05234497785568237\n",
      "Epoch 847, Loss: 0.05175285041332245\n",
      "Epoch 848, Loss: 0.05174151435494423\n",
      "Epoch 849, Loss: 0.05184561014175415\n",
      "Epoch 850, Loss: 0.05220860242843628\n",
      "Epoch 851, Loss: 0.05128011107444763\n",
      "Epoch 852, Loss: 0.05192391574382782\n",
      "Epoch 853, Loss: 0.05167056620121002\n",
      "Epoch 854, Loss: 0.05066407099366188\n",
      "Epoch 855, Loss: 0.05094248428940773\n",
      "Epoch 856, Loss: 0.05168119817972183\n",
      "Epoch 857, Loss: 0.05043920874595642\n",
      "Epoch 858, Loss: 0.05040496960282326\n",
      "Epoch 859, Loss: 0.051710791885852814\n",
      "Epoch 860, Loss: 0.05104856938123703\n",
      "Epoch 861, Loss: 0.050452493131160736\n",
      "Epoch 862, Loss: 0.04978852719068527\n",
      "Epoch 863, Loss: 0.05040330812335014\n",
      "Epoch 864, Loss: 0.050986018031835556\n",
      "Epoch 865, Loss: 0.05049636960029602\n",
      "Epoch 866, Loss: 0.04996863752603531\n",
      "Epoch 867, Loss: 0.04963120445609093\n",
      "Epoch 868, Loss: 0.049739740788936615\n",
      "Epoch 869, Loss: 0.04958938807249069\n",
      "Epoch 870, Loss: 0.049809154123067856\n",
      "Epoch 871, Loss: 0.04921690374612808\n",
      "Epoch 872, Loss: 0.0496615506708622\n",
      "Epoch 873, Loss: 0.04931401088833809\n",
      "Epoch 874, Loss: 0.04903938248753548\n",
      "Epoch 875, Loss: 0.049137938767671585\n",
      "Epoch 876, Loss: 0.04896313697099686\n",
      "Epoch 877, Loss: 0.04901480674743652\n",
      "Epoch 878, Loss: 0.0490155965089798\n",
      "Epoch 879, Loss: 0.04909277707338333\n",
      "Epoch 880, Loss: 0.04903300106525421\n",
      "Epoch 881, Loss: 0.04900625720620155\n",
      "Epoch 882, Loss: 0.04956153780221939\n",
      "Epoch 883, Loss: 0.051606446504592896\n",
      "Epoch 884, Loss: 0.06221626326441765\n",
      "Epoch 885, Loss: 0.06431380659341812\n",
      "Epoch 886, Loss: 0.05602891370654106\n",
      "Epoch 887, Loss: 0.056739598512649536\n",
      "Epoch 888, Loss: 0.05727216228842735\n",
      "Epoch 889, Loss: 0.052500560879707336\n",
      "Epoch 890, Loss: 0.055984895676374435\n",
      "Epoch 891, Loss: 0.05120861902832985\n",
      "Epoch 892, Loss: 0.054685596376657486\n",
      "Epoch 893, Loss: 0.0568372905254364\n",
      "Epoch 894, Loss: 0.053041063249111176\n",
      "Epoch 895, Loss: 0.05675272271037102\n",
      "Epoch 896, Loss: 0.05322153866291046\n",
      "Epoch 897, Loss: 0.05592607334256172\n",
      "Epoch 898, Loss: 0.054410070180892944\n",
      "Epoch 899, Loss: 0.05294649675488472\n",
      "Epoch 900, Loss: 0.05290751904249191\n",
      "Epoch 901, Loss: 0.0526234395802021\n",
      "Epoch 902, Loss: 0.05238478630781174\n",
      "Epoch 903, Loss: 0.05228889361023903\n",
      "Epoch 904, Loss: 0.05065598338842392\n",
      "Epoch 905, Loss: 0.051808856427669525\n",
      "Epoch 906, Loss: 0.0511617586016655\n",
      "Epoch 907, Loss: 0.05034568905830383\n",
      "Epoch 908, Loss: 0.050930578261613846\n",
      "Epoch 909, Loss: 0.04978889971971512\n",
      "Epoch 910, Loss: 0.05004729703068733\n",
      "Epoch 911, Loss: 0.04973699152469635\n",
      "Epoch 912, Loss: 0.04953854903578758\n",
      "Epoch 913, Loss: 0.050158046185970306\n",
      "Epoch 914, Loss: 0.04901404306292534\n",
      "Epoch 915, Loss: 0.04952981695532799\n",
      "Epoch 916, Loss: 0.04981602728366852\n",
      "Epoch 917, Loss: 0.04924018308520317\n",
      "Epoch 918, Loss: 0.048899199813604355\n",
      "Epoch 919, Loss: 0.04944859817624092\n",
      "Epoch 920, Loss: 0.048725757747888565\n",
      "Epoch 921, Loss: 0.04918478801846504\n",
      "Epoch 922, Loss: 0.04951558634638786\n",
      "Epoch 923, Loss: 0.05120199918746948\n",
      "Epoch 924, Loss: 0.05290504917502403\n",
      "Epoch 925, Loss: 0.0635126456618309\n",
      "Epoch 926, Loss: 0.055287521332502365\n",
      "Epoch 927, Loss: 0.050658177584409714\n",
      "Epoch 928, Loss: 0.05237193405628204\n",
      "Epoch 929, Loss: 0.051229558885097504\n",
      "Epoch 930, Loss: 0.05020483583211899\n",
      "Epoch 931, Loss: 0.051091112196445465\n",
      "Epoch 932, Loss: 0.05015672743320465\n",
      "Epoch 933, Loss: 0.04994204640388489\n",
      "Epoch 934, Loss: 0.050666939467191696\n",
      "Epoch 935, Loss: 0.050815049558877945\n",
      "Epoch 936, Loss: 0.049630336463451385\n",
      "Epoch 937, Loss: 0.049868542701005936\n",
      "Epoch 938, Loss: 0.049061331897974014\n",
      "Epoch 939, Loss: 0.048869211226701736\n",
      "Epoch 940, Loss: 0.04925995692610741\n",
      "Epoch 941, Loss: 0.049423206597566605\n",
      "Epoch 942, Loss: 0.049669310450553894\n",
      "Epoch 943, Loss: 0.04987531900405884\n",
      "Epoch 944, Loss: 0.049933478236198425\n",
      "Epoch 945, Loss: 0.04922936484217644\n",
      "Epoch 946, Loss: 0.049655381590127945\n",
      "Epoch 947, Loss: 0.04862666130065918\n",
      "Epoch 948, Loss: 0.04940852150321007\n",
      "Epoch 949, Loss: 0.048543594777584076\n",
      "Epoch 950, Loss: 0.04914722219109535\n",
      "Epoch 951, Loss: 0.04832509160041809\n",
      "Epoch 952, Loss: 0.04978090897202492\n",
      "Epoch 953, Loss: 0.05127093195915222\n",
      "Epoch 954, Loss: 0.05445551127195358\n",
      "Epoch 955, Loss: 0.06008032709360123\n",
      "Epoch 956, Loss: 0.05535552650690079\n",
      "Epoch 957, Loss: 0.050422776490449905\n",
      "Epoch 958, Loss: 0.05218439921736717\n",
      "Epoch 959, Loss: 0.052005406469106674\n",
      "Epoch 960, Loss: 0.04920574277639389\n",
      "Epoch 961, Loss: 0.051793523132801056\n",
      "Epoch 962, Loss: 0.0492522232234478\n",
      "Epoch 963, Loss: 0.05000171810388565\n",
      "Epoch 964, Loss: 0.05027182772755623\n",
      "Epoch 965, Loss: 0.0500757060945034\n",
      "Epoch 966, Loss: 0.05021709203720093\n",
      "Epoch 967, Loss: 0.04834635555744171\n",
      "Epoch 968, Loss: 0.04949025809764862\n",
      "Epoch 969, Loss: 0.04995560646057129\n",
      "Epoch 970, Loss: 0.04954846203327179\n",
      "Epoch 971, Loss: 0.048977091908454895\n",
      "Epoch 972, Loss: 0.048344165086746216\n",
      "Epoch 973, Loss: 0.04820997640490532\n",
      "Epoch 974, Loss: 0.048418864607810974\n",
      "Epoch 975, Loss: 0.04828923940658569\n",
      "Epoch 976, Loss: 0.04853646084666252\n",
      "Epoch 977, Loss: 0.048048947006464005\n",
      "Epoch 978, Loss: 0.04828362539410591\n",
      "Epoch 979, Loss: 0.0485382005572319\n",
      "Epoch 980, Loss: 0.04933079704642296\n",
      "Epoch 981, Loss: 0.05004444718360901\n",
      "Epoch 982, Loss: 0.052323244512081146\n",
      "Epoch 983, Loss: 0.052800800651311874\n",
      "Epoch 984, Loss: 0.05635983496904373\n",
      "Epoch 985, Loss: 0.05360815301537514\n",
      "Epoch 986, Loss: 0.04868051037192345\n",
      "Epoch 987, Loss: 0.05107202008366585\n",
      "Epoch 988, Loss: 0.050191961228847504\n",
      "Epoch 989, Loss: 0.04982304573059082\n",
      "Epoch 990, Loss: 0.04974079504609108\n",
      "Epoch 991, Loss: 0.04851285740733147\n",
      "Epoch 992, Loss: 0.050178173929452896\n",
      "Epoch 993, Loss: 0.04816264659166336\n",
      "Epoch 994, Loss: 0.049908481538295746\n",
      "Epoch 995, Loss: 0.04976280406117439\n",
      "Epoch 996, Loss: 0.04937051981687546\n",
      "Epoch 997, Loss: 0.04881233721971512\n",
      "Epoch 998, Loss: 0.048094622790813446\n",
      "Epoch 999, Loss: 0.04806341230869293\n",
      "Epoch 1000, Loss: 0.048410896211862564\n"
     ]
    }
   ],
   "source": [
    "train_loader = DataLoader(dataset=train_data, batch_size=32, shuffle=True)\n",
    "from torch.optim import lr_scheduler\n",
    "\n",
    "class LSTMModel(nn.Module):\n",
    "    def __init__(self, num_features, hidden_layer_size):\n",
    "        super(LSTMModel, self).__init__()\n",
    "        self.lstm = nn.LSTM(num_features, hidden_layer_size, batch_first=True)\n",
    "        self.dropout = nn.Dropout(0.3)\n",
    "        self.linear = nn.Linear(hidden_layer_size, 1) \n",
    "\n",
    "    def forward(self, x):\n",
    "        x, _ = self.lstm(x)\n",
    "        x = self.dropout(x)\n",
    "        x = self.linear(x)\n",
    "        x = x[:, -1, :]  # Takes the output of the last time point in the sequence\n",
    "        return x\n",
    "\n",
    "\n",
    "\n",
    "\n",
    "model = LSTMModel(X_train.shape[2], 64)\n",
    "criterion = nn.BCEWithLogitsLoss()  \n",
    "optimizer = optim.Adam(model.parameters(), lr=0.001)\n",
    "# Create a learning rate scheduler\n",
    "# lr_scheduler = lr_scheduler.StepLR(optimizer, step_size=50, gamma=0.5)\n",
    "\n",
    "model.to(device)\n",
    "model.train()\n",
    "# train\n",
    "epochs = 1000\n",
    "for epoch in range(epochs):\n",
    "    optimizer.zero_grad()\n",
    "    output = model(X_train_tensor)\n",
    "    loss = criterion(output, y_train_tensor)\n",
    "    loss.backward()\n",
    "    optimizer.step()\n",
    "    \n",
    "    # lr_scheduler.step()\n",
    "    \n",
    "    print(f'Epoch {epoch+1}, Loss: {loss.item()}')\n",
    "\n",
    "\n",
    "    \n",
    "# save\n",
    "torch.save(model.state_dict(), 'lstm_model1.pth')\n",
    "\n"
   ],
   "metadata": {
    "collapsed": false
   },
   "id": "e007f862296f68fc"
  },
  {
   "cell_type": "code",
   "execution_count": 27,
   "outputs": [
    {
     "name": "stdout",
     "output_type": "stream",
     "text": [
      "torch.Size([6613, 10, 7])\n"
     ]
    }
   ],
   "source": [
    "print(X_test_tensor.shape)\n"
   ],
   "metadata": {
    "collapsed": false,
    "ExecuteTime": {
     "end_time": "2023-12-15T07:45:02.676418900Z",
     "start_time": "2023-12-15T07:45:02.654513100Z"
    }
   },
   "id": "92264bdd3f176654"
  },
  {
   "cell_type": "code",
   "execution_count": 28,
   "outputs": [
    {
     "name": "stdout",
     "output_type": "stream",
     "text": [
      "Recall (class 1): 0.7405\n",
      "Precision: 0.3956\n"
     ]
    }
   ],
   "source": [
    "from sklearn.metrics import recall_score, precision_score\n",
    "import torch.nn.functional as F\n",
    "\n",
    "# Reshape test data to match model inputs\n",
    "test_input = X_test_tensor.to(device)\n",
    "\n",
    "#predict\n",
    "model.eval()  \n",
    "with torch.no_grad():\n",
    "    test_predictions = model(test_input)\n",
    "\n",
    "# Converts prediction results to binary labels\n",
    "predicted_labels = (test_predictions > 0.5).type(torch.int).cpu().numpy()\n",
    "\n",
    "recall = recall_score(y_test, predicted_labels, pos_label=1)\n",
    "precision = precision_score(y_test, predicted_labels)\n",
    "\n",
    "print(f'Recall (class 1): {recall:.4f}')\n",
    "print(f'Precision: {precision:.4f}')\n",
    "\n",
    "\n",
    "\n"
   ],
   "metadata": {
    "collapsed": false,
    "ExecuteTime": {
     "end_time": "2023-12-15T07:45:02.708064200Z",
     "start_time": "2023-12-15T07:45:02.671420500Z"
    }
   },
   "id": "51fd876ae6c2793c"
  },
  {
   "cell_type": "code",
   "execution_count": 29,
   "outputs": [
    {
     "data": {
      "text/plain": "      Is_Falling         z    z_mean         x  z_change_momentum_std  \\\n0              0  0.937880  1.101936 -1.560579               0.131190   \n1              0  0.910974  1.101936 -1.554662               0.131190   \n2              0  0.900787  1.101936 -1.554954               0.131190   \n3              0  1.188580  1.101936 -1.567222               0.131190   \n4              0  1.113441  1.101936 -1.558351               0.131190   \n...          ...       ...       ...       ...                    ...   \n6618           0  1.303992  1.423800 -1.382111               0.151521   \n6619           0  1.514922  1.439587 -1.386715               0.156802   \n6620           0  1.634979  1.456326 -1.378556               0.157375   \n6621           0  1.408741  1.463752 -1.373076               0.164698   \n6622           0  1.217444  1.462893 -1.379747               0.169407   \n\n        x_mean  x_change_momentum_std  fall_duration  \n0    -1.569741               0.007082              0  \n1    -1.569741               0.007082              1  \n2    -1.569741               0.007082              2  \n3    -1.569741               0.007082              3  \n4    -1.569741               0.007082              4  \n...        ...                    ...            ...  \n6618 -1.397136               0.007242            460  \n6619 -1.396238               0.007258            461  \n6620 -1.395123               0.007395            462  \n6621 -1.393836               0.007447            463  \n6622 -1.392756               0.007598            464  \n\n[6623 rows x 8 columns]",
      "text/html": "<div>\n<style scoped>\n    .dataframe tbody tr th:only-of-type {\n        vertical-align: middle;\n    }\n\n    .dataframe tbody tr th {\n        vertical-align: top;\n    }\n\n    .dataframe thead th {\n        text-align: right;\n    }\n</style>\n<table border=\"1\" class=\"dataframe\">\n  <thead>\n    <tr style=\"text-align: right;\">\n      <th></th>\n      <th>Is_Falling</th>\n      <th>z</th>\n      <th>z_mean</th>\n      <th>x</th>\n      <th>z_change_momentum_std</th>\n      <th>x_mean</th>\n      <th>x_change_momentum_std</th>\n      <th>fall_duration</th>\n    </tr>\n  </thead>\n  <tbody>\n    <tr>\n      <th>0</th>\n      <td>0</td>\n      <td>0.937880</td>\n      <td>1.101936</td>\n      <td>-1.560579</td>\n      <td>0.131190</td>\n      <td>-1.569741</td>\n      <td>0.007082</td>\n      <td>0</td>\n    </tr>\n    <tr>\n      <th>1</th>\n      <td>0</td>\n      <td>0.910974</td>\n      <td>1.101936</td>\n      <td>-1.554662</td>\n      <td>0.131190</td>\n      <td>-1.569741</td>\n      <td>0.007082</td>\n      <td>1</td>\n    </tr>\n    <tr>\n      <th>2</th>\n      <td>0</td>\n      <td>0.900787</td>\n      <td>1.101936</td>\n      <td>-1.554954</td>\n      <td>0.131190</td>\n      <td>-1.569741</td>\n      <td>0.007082</td>\n      <td>2</td>\n    </tr>\n    <tr>\n      <th>3</th>\n      <td>0</td>\n      <td>1.188580</td>\n      <td>1.101936</td>\n      <td>-1.567222</td>\n      <td>0.131190</td>\n      <td>-1.569741</td>\n      <td>0.007082</td>\n      <td>3</td>\n    </tr>\n    <tr>\n      <th>4</th>\n      <td>0</td>\n      <td>1.113441</td>\n      <td>1.101936</td>\n      <td>-1.558351</td>\n      <td>0.131190</td>\n      <td>-1.569741</td>\n      <td>0.007082</td>\n      <td>4</td>\n    </tr>\n    <tr>\n      <th>...</th>\n      <td>...</td>\n      <td>...</td>\n      <td>...</td>\n      <td>...</td>\n      <td>...</td>\n      <td>...</td>\n      <td>...</td>\n      <td>...</td>\n    </tr>\n    <tr>\n      <th>6618</th>\n      <td>0</td>\n      <td>1.303992</td>\n      <td>1.423800</td>\n      <td>-1.382111</td>\n      <td>0.151521</td>\n      <td>-1.397136</td>\n      <td>0.007242</td>\n      <td>460</td>\n    </tr>\n    <tr>\n      <th>6619</th>\n      <td>0</td>\n      <td>1.514922</td>\n      <td>1.439587</td>\n      <td>-1.386715</td>\n      <td>0.156802</td>\n      <td>-1.396238</td>\n      <td>0.007258</td>\n      <td>461</td>\n    </tr>\n    <tr>\n      <th>6620</th>\n      <td>0</td>\n      <td>1.634979</td>\n      <td>1.456326</td>\n      <td>-1.378556</td>\n      <td>0.157375</td>\n      <td>-1.395123</td>\n      <td>0.007395</td>\n      <td>462</td>\n    </tr>\n    <tr>\n      <th>6621</th>\n      <td>0</td>\n      <td>1.408741</td>\n      <td>1.463752</td>\n      <td>-1.373076</td>\n      <td>0.164698</td>\n      <td>-1.393836</td>\n      <td>0.007447</td>\n      <td>463</td>\n    </tr>\n    <tr>\n      <th>6622</th>\n      <td>0</td>\n      <td>1.217444</td>\n      <td>1.462893</td>\n      <td>-1.379747</td>\n      <td>0.169407</td>\n      <td>-1.392756</td>\n      <td>0.007598</td>\n      <td>464</td>\n    </tr>\n  </tbody>\n</table>\n<p>6623 rows × 8 columns</p>\n</div>"
     },
     "execution_count": 29,
     "metadata": {},
     "output_type": "execute_result"
    }
   ],
   "source": [
    "testdata"
   ],
   "metadata": {
    "collapsed": false,
    "ExecuteTime": {
     "end_time": "2023-12-15T07:45:02.720061800Z",
     "start_time": "2023-12-15T07:45:02.700063Z"
    }
   },
   "id": "21d7fd77a922da29"
  },
  {
   "cell_type": "code",
   "execution_count": 29,
   "outputs": [],
   "source": [],
   "metadata": {
    "collapsed": false,
    "ExecuteTime": {
     "end_time": "2023-12-15T07:45:02.732066200Z",
     "start_time": "2023-12-15T07:45:02.716063300Z"
    }
   },
   "id": "6f55a661e431ff97"
  }
 ],
 "metadata": {
  "kernelspec": {
   "display_name": "Python 3",
   "language": "python",
   "name": "python3"
  },
  "language_info": {
   "codemirror_mode": {
    "name": "ipython",
    "version": 2
   },
   "file_extension": ".py",
   "mimetype": "text/x-python",
   "name": "python",
   "nbconvert_exporter": "python",
   "pygments_lexer": "ipython2",
   "version": "2.7.6"
  }
 },
 "nbformat": 4,
 "nbformat_minor": 5
}
