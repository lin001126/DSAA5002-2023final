{
 "cells": [
  {
   "cell_type": "markdown",
   "source": [
    "reference:https://pytorchvideo.org/docs/tutorial_classification"
   ],
   "metadata": {
    "collapsed": false
   },
   "id": "a05fb4b243f358e6"
  },
  {
   "cell_type": "markdown",
   "source": [
    "Load the pretrain model:"
   ],
   "metadata": {
    "collapsed": false
   },
   "id": "1c3d05c2c3fdea74"
  },
  {
   "cell_type": "code",
   "execution_count": 1,
   "id": "initial_id",
   "metadata": {
    "collapsed": true,
    "ExecuteTime": {
     "end_time": "2023-12-17T08:58:35.632834Z",
     "start_time": "2023-12-17T08:58:32.514786500Z"
    }
   },
   "outputs": [
    {
     "name": "stderr",
     "output_type": "stream",
     "text": [
      "Using cache found in C:\\Users\\Administrator/.cache\\torch\\hub\\facebookresearch_pytorchvideo_main\n"
     ]
    }
   ],
   "source": [
    "import torch\n",
    "# Choose the `slowfast_r50` model\n",
    "model = torch.hub.load('facebookresearch/pytorchvideo', 'slowfast_r50', pretrained=True)"
   ]
  },
  {
   "cell_type": "markdown",
   "source": [
    "Import remaining functions:"
   ],
   "metadata": {
    "collapsed": false
   },
   "id": "935b9100e001b387"
  },
  {
   "cell_type": "code",
   "execution_count": 2,
   "outputs": [
    {
     "name": "stderr",
     "output_type": "stream",
     "text": [
      "D:\\anaconda3\\envs\\dcai\\lib\\site-packages\\torchvision\\transforms\\_functional_video.py:6: UserWarning: The 'torchvision.transforms._functional_video' module is deprecated since 0.12 and will be removed in the future. Please use the 'torchvision.transforms.functional' module instead.\n",
      "  warnings.warn(\n",
      "D:\\anaconda3\\envs\\dcai\\lib\\site-packages\\torchvision\\transforms\\_transforms_video.py:22: UserWarning: The 'torchvision.transforms._transforms_video' module is deprecated since 0.12 and will be removed in the future. Please use the 'torchvision.transforms' module instead.\n",
      "  warnings.warn(\n"
     ]
    }
   ],
   "source": [
    "from typing import Dict\n",
    "import json\n",
    "import urllib\n",
    "from torchvision.transforms import Compose, Lambda\n",
    "from torchvision.transforms._transforms_video import (\n",
    "    CenterCropVideo,\n",
    "    NormalizeVideo,\n",
    ")\n",
    "from pytorchvideo.data.encoded_video import EncodedVideo\n",
    "from pytorchvideo.transforms import (\n",
    "    ApplyTransformToKey,\n",
    "    ShortSideScale,\n",
    "    UniformTemporalSubsample,\n",
    "    UniformCropVideo\n",
    ")"
   ],
   "metadata": {
    "collapsed": false,
    "ExecuteTime": {
     "end_time": "2023-12-17T08:58:35.760097700Z",
     "start_time": "2023-12-17T08:58:35.634888400Z"
    }
   },
   "id": "58e117ff49c01f6f"
  },
  {
   "cell_type": "markdown",
   "source": [
    "make id2label & label2id"
   ],
   "metadata": {
    "collapsed": false
   },
   "id": "10b18f0caeb4de44"
  },
  {
   "cell_type": "code",
   "execution_count": 3,
   "outputs": [],
   "source": [
    "\n",
    "label2id = {\n",
    "    \"dog\": 0,\n",
    "    \"boy selfie\": 1,\n",
    "    \"seafood\": 2,\n",
    "    \"snack\": 3,\n",
    "    \"doll catching\": 4,\n",
    "    \"Ballroom dance\": 5,\n",
    "    \"origami\": 6,\n",
    "    \"weave\": 7,\n",
    "    \"ceramic art\": 8,\n",
    "    \"Zheng playing\": 9,\n",
    "    \"fitness\": 10,\n",
    "    \"parkour\": 11,\n",
    "    \"diving\": 12,\n",
    "    \"billiards\": 13,\n",
    "    \"eye makeup\": 14\n",
    "}\n",
    "\n",
    "id2label = {v: k for k, v in label2id.items()}\n"
   ],
   "metadata": {
    "collapsed": false,
    "ExecuteTime": {
     "end_time": "2023-12-17T08:58:35.803101400Z",
     "start_time": "2023-12-17T08:58:35.762099100Z"
    }
   },
   "id": "169e68e65a8ca073"
  },
  {
   "cell_type": "markdown",
   "source": [
    "Use GPU"
   ],
   "metadata": {
    "collapsed": false
   },
   "id": "d6f20f47ca60b7c5"
  },
  {
   "cell_type": "code",
   "execution_count": 4,
   "outputs": [],
   "source": [
    "# Set to GPU or CPU\n",
    "device = \"cuda\"\n",
    "model = model.eval()\n",
    "model = model.to(device)"
   ],
   "metadata": {
    "collapsed": false,
    "ExecuteTime": {
     "end_time": "2023-12-17T08:58:35.941903Z",
     "start_time": "2023-12-17T08:58:35.775098500Z"
    }
   },
   "id": "3d4c88af9ab366cd"
  },
  {
   "cell_type": "markdown",
   "source": [
    "transform refers to   https://pytorch.org/hub/facebookresearch_pytorchvideo_slowfast/"
   ],
   "metadata": {
    "collapsed": false
   },
   "id": "768e5360d7b83477"
  },
  {
   "cell_type": "code",
   "execution_count": 5,
   "outputs": [],
   "source": [
    "side_size = 256\n",
    "mean = [0.45, 0.45, 0.45]\n",
    "std = [0.225, 0.225, 0.225]\n",
    "crop_size = 256\n",
    "num_frames = 32\n",
    "sampling_rate = 2\n",
    "frames_per_second = 30\n",
    "slowfast_alpha = 4\n",
    "num_clips = 10\n",
    "num_crops = 3\n",
    "def scale_video(x):\n",
    "    return x / 255.0\n",
    "class PackPathway(torch.nn.Module):\n",
    "    \"\"\"\n",
    "    Transform for converting video frames as a list of tensors. \n",
    "    \"\"\"\n",
    "    def __init__(self):\n",
    "        super().__init__()\n",
    "        \n",
    "    def forward(self, frames: torch.Tensor):\n",
    "        fast_pathway = frames\n",
    "        # Perform temporal sampling from the fast pathway.\n",
    "        slow_pathway = torch.index_select(\n",
    "            frames,\n",
    "            1,\n",
    "            torch.linspace(\n",
    "                0, frames.shape[1] - 1, frames.shape[1] // slowfast_alpha\n",
    "            ).long(),\n",
    "        )\n",
    "        frame_list = [slow_pathway, fast_pathway]\n",
    "        return frame_list\n",
    "transform =  ApplyTransformToKey(\n",
    "    key=\"video\",\n",
    "    transform=Compose(\n",
    "        [\n",
    "            UniformTemporalSubsample(num_frames),\n",
    "            scale_video,\n",
    "            NormalizeVideo(mean, std),\n",
    "            ShortSideScale(\n",
    "                size=side_size\n",
    "            ),\n",
    "            CenterCropVideo(crop_size),\n",
    "            PackPathway()\n",
    "        ]\n",
    "    ),\n",
    ")\n",
    "\n",
    "# The duration of the input clip is also specific to the model.\n",
    "clip_duration = (num_frames * sampling_rate)/frames_per_second"
   ],
   "metadata": {
    "collapsed": false,
    "ExecuteTime": {
     "end_time": "2023-12-17T08:58:35.958903Z",
     "start_time": "2023-12-17T08:58:35.942903Z"
    }
   },
   "id": "409ddaf3ca81cb04"
  },
  {
   "cell_type": "markdown",
   "source": [
    "prepocessing data "
   ],
   "metadata": {
    "collapsed": false
   },
   "id": "e294acea7a8ccd8f"
  },
  {
   "cell_type": "code",
   "execution_count": 6,
   "outputs": [],
   "source": [
    "from typing import List, Tuple\n",
    "import os\n",
    "def load_video_labels(tag_file: str) -> List[Tuple[str, int]]:\n",
    "    #Read the video file name and corresponding label from tag_file\n",
    "    video_labels = []\n",
    "    with open(tag_file, 'r') as file:\n",
    "        for line in file:\n",
    "            video_file, label = line.strip().split(',')\n",
    "            video_labels.append((video_file, int(label)))\n",
    "    return video_labels\n",
    "\n",
    "def create_video_path_label_pairs(video_folder: str, video_labels: List[Tuple[str, int]]) -> List[Tuple[str, int]]:\n",
    "    # Creates a tuple list with full video paths and tags\n",
    "    path_label_pairs = []\n",
    "    for video_file, label in video_labels:\n",
    "        full_path = os.path.join(video_folder, video_file)\n",
    "        path_label_pairs.append((full_path, label))\n",
    "    return path_label_pairs\n",
    "\n",
    "\n",
    "tag_file_path = '../Data_Q3/train_tag.txt'\n",
    "video_folder_path = '../Data_Q3/train_video'\n",
    "\n",
    "video_labels = load_video_labels(tag_file_path)\n",
    "video_path_label_pairs = create_video_path_label_pairs(video_folder_path, video_labels)\n",
    "\n"
   ],
   "metadata": {
    "collapsed": false,
    "ExecuteTime": {
     "end_time": "2023-12-17T08:58:35.985902Z",
     "start_time": "2023-12-17T08:58:35.960902700Z"
    }
   },
   "id": "49116a96baf7aa27"
  },
  {
   "cell_type": "markdown",
   "source": [
    "Convert data set into pytorchvideo can use in the form of https://pytorchvideo.readthedocs.io/en/latest/api/data/data.html\n",
    "Load  video data"
   ],
   "metadata": {
    "collapsed": false
   },
   "id": "98af2b15e1da2256"
  },
  {
   "cell_type": "code",
   "execution_count": 7,
   "outputs": [],
   "source": [
    "import pytorch_lightning as pl\n",
    "import pytorchvideo.data\n",
    "import torch.utils.data\n",
    "from typing import List, Tuple\n",
    "\n",
    "import json\n",
    "from sklearn.model_selection import train_test_split\n",
    "# Create data manifes) to store data pairs composed of video file path and corresponding tags as JSON files\n",
    "def create_manifest(video_path_label_pairs: List[Tuple[str, int]], output_file: str):\n",
    "    manifest_data = [{\"video_path\": path.replace('\\\\', '/'), \"label\": label} for path, label in video_path_label_pairs]\n",
    "    \n",
    "    train_data, valid_data = train_test_split(manifest_data, test_size=0.2)\n",
    "\n",
    "\n",
    "    with open(output_file + '_train.json', 'w') as f:\n",
    "        json.dump(train_data, f)\n",
    "    with open(output_file + '_valid.json', 'w') as f:\n",
    "        json.dump(valid_data, f)\n",
    "\n",
    "\n",
    "create_manifest(video_path_label_pairs, 'output_manifest')\n",
    "\n",
    "\n",
    "\n",
    "class CustomVideoDataModule(pl.LightningDataModule):\n",
    "\n",
    "    def __init__(self, data_path, train_folder, train_tag_file, clip_duration, batch_size, num_workers, valid_split=0.2):\n",
    "        super().__init__()\n",
    "        self.data_path = data_path\n",
    "        self.train_folder = train_folder\n",
    "        self.train_tag_file = train_tag_file\n",
    "        self.clip_duration = clip_duration\n",
    "        self.batch_size = batch_size\n",
    "        self.num_workers = num_workers\n",
    "        self.valid_split = valid_split\n",
    "\n",
    "    def setup(self, stage=None):\n",
    "        if stage == 'fit' or stage is None:\n",
    "            with open('output_manifest_train.json', 'r') as f:\n",
    "                train_data = json.load(f)\n",
    "            train_video_paths = [(item['video_path'], {\"label\": item[\"label\"]}) for item in train_data]\n",
    "\n",
    "            with open('output_manifest_valid.json', 'r') as f:\n",
    "                valid_data = json.load(f)\n",
    "            valid_video_paths = [(item['video_path'], {\"label\": item[\"label\"]}) for item in valid_data]\n",
    "\n",
    "            # Create the LabeledVideoDataset\n",
    "            self.train_dataset = pytorchvideo.data.LabeledVideoDataset(\n",
    "                labeled_video_paths=train_video_paths,\n",
    "                clip_sampler=pytorchvideo.data.make_clip_sampler(\"random\", self.clip_duration),\n",
    "                decode_audio=False,\n",
    "                transform=transform\n",
    "            )\n",
    "            self.valid_dataset = pytorchvideo.data.LabeledVideoDataset(\n",
    "                labeled_video_paths=valid_video_paths,\n",
    "                clip_sampler=pytorchvideo.data.make_clip_sampler(\"uniform\", self.clip_duration),\n",
    "                decode_audio=False,\n",
    "                transform=transform\n",
    "            )\n",
    "\n",
    "\n",
    "    def train_dataloader(self):\n",
    "        return torch.utils.data.DataLoader(\n",
    "            self.train_dataset,\n",
    "            batch_size=self.batch_size,\n",
    "            num_workers=self.num_workers,\n",
    "            shuffle=False\n",
    "        )\n",
    "\n",
    "    def val_dataloader(self):\n",
    "        return torch.utils.data.DataLoader(\n",
    "            self.valid_dataset,\n",
    "            batch_size=self.batch_size,\n",
    "            num_workers=self.num_workers,\n",
    "            shuffle=False\n",
    "        )\n",
    "\n",
    "data_module = CustomVideoDataModule(\n",
    "    data_path='../Data_Q3',\n",
    "    train_folder='train_video',\n",
    "    train_tag_file='train_tag.txt',\n",
    "    clip_duration=clip_duration, \n",
    "    batch_size=8,\n",
    "    num_workers=0,\n",
    "    valid_split=0.2  \n",
    ")\n",
    "data_module.setup()\n",
    "\n",
    "\n"
   ],
   "metadata": {
    "collapsed": false,
    "ExecuteTime": {
     "end_time": "2023-12-17T08:58:37.223579400Z",
     "start_time": "2023-12-17T08:58:35.978902200Z"
    }
   },
   "id": "7ba4f5a25681a739"
  },
  {
   "cell_type": "markdown",
   "source": [
    "test"
   ],
   "metadata": {
    "collapsed": false
   },
   "id": "67d11cb47cbf29f6"
  },
  {
   "cell_type": "code",
   "execution_count": 8,
   "outputs": [
    {
     "name": "stdout",
     "output_type": "stream",
     "text": [
      "{'video_path': '../Data_Q3/train_video/878402673.mp4', 'label': 10}\n",
      "{'video_path': '../Data_Q3/train_video/877356819.mp4', 'label': 14}\n",
      "{'video_path': '../Data_Q3/train_video/644402208_68_78.mp4', 'label': 7}\n",
      "{'video_path': '../Data_Q3/train_video/882526467.mp4', 'label': 10}\n",
      "{'video_path': '../Data_Q3/train_video/683965826_145_155.mp4', 'label': 7}\n"
     ]
    }
   ],
   "source": [
    "import json\n",
    "\n",
    "manifest_file = 'output_manifest_train.json'\n",
    "\n",
    "with open(manifest_file, 'r') as f:\n",
    "    data = json.load(f)\n",
    "    for item in data[:5]:  \n",
    "        print(item)\n"
   ],
   "metadata": {
    "collapsed": false,
    "ExecuteTime": {
     "end_time": "2023-12-17T08:58:38.189757700Z",
     "start_time": "2023-12-17T08:58:38.176405700Z"
    }
   },
   "id": "d1da7af517f6be98"
  },
  {
   "cell_type": "code",
   "execution_count": 9,
   "outputs": [
    {
     "name": "stderr",
     "output_type": "stream",
     "text": [
      "Using cache found in C:\\Users\\Administrator/.cache\\torch\\hub\\facebookresearch_pytorchvideo_main\n"
     ]
    }
   ],
   "source": [
    "import torch.nn.functional as F\n",
    "\n",
    "import torchmetrics\n",
    "\n",
    "\n",
    "class VideoClassificationLightningModule(pl.LightningModule):\n",
    "    def __init__(self, num_classes):\n",
    "        super().__init__()\n",
    "        # load model\n",
    "        self.model = torch.hub.load('facebookresearch/pytorchvideo', 'slowfast_r50', pretrained=True)\n",
    "\n",
    "        # Replace the last layer of the classifier to accommodate the new number of categories\n",
    "        self.model.blocks[-1].proj = torch.nn.Linear(self.model.blocks[-1].proj.in_features, num_classes)\n",
    "        self.val_accuracy = torchmetrics.Accuracy(num_classes=num_classes,task=\"multiclass\")\n",
    "\n",
    "    def forward(self, x):\n",
    "        return self.model(x)\n",
    "\n",
    "    def training_step(self, batch, batch_idx):\n",
    "        # tensor format expected by the model is (B, C, T, H, W).\n",
    "        y_hat = self.model(batch[\"video\"])\n",
    "        loss = F.cross_entropy(y_hat, batch[\"label\"])\n",
    "        self.log(\"train_loss\", loss.item())\n",
    "        return loss\n",
    "\n",
    "    def validation_step(self, batch, batch_idx):\n",
    "        y_hat = self.model(batch[\"video\"])\n",
    "        loss = F.cross_entropy(y_hat, batch[\"label\"])\n",
    "        preds = torch.argmax(y_hat, dim=1)\n",
    "        acc = self.val_accuracy(preds, batch[\"label\"])\n",
    "        self.log(\"val_loss\", loss, prog_bar=True)\n",
    "        self.log(\"val_acc\", acc, prog_bar=True)\n",
    "        return loss\n",
    "\n",
    "    def configure_optimizers(self):\n",
    "        # dam \n",
    "        return torch.optim.Adam(self.parameters(), lr=1e-4)\n",
    "\n",
    "\n",
    "num_classes = 15  \n",
    "model = VideoClassificationLightningModule(num_classes=num_classes)\n"
   ],
   "metadata": {
    "collapsed": false,
    "ExecuteTime": {
     "end_time": "2023-12-17T08:58:40.015310200Z",
     "start_time": "2023-12-17T08:58:39.397470300Z"
    }
   },
   "id": "9852ce99709478cc"
  },
  {
   "cell_type": "markdown",
   "source": [
    "Trainer"
   ],
   "metadata": {
    "collapsed": false
   },
   "id": "27f18f8ab712861d"
  },
  {
   "cell_type": "code",
   "execution_count": 10,
   "outputs": [],
   "source": [
    "\n",
    "from pytorch_lightning.callbacks import ModelCheckpoint\n",
    "\n",
    "def train(num_classes, data_path, train_folder, train_tag_file, batch_size, num_workers):\n",
    "    classification_module = VideoClassificationLightningModule(num_classes=num_classes)\n",
    "\n",
    "    # Initializes the data module\n",
    "    data_module = CustomVideoDataModule(\n",
    "        data_path=data_path,\n",
    "        train_folder=train_folder,\n",
    "        train_tag_file=train_tag_file,\n",
    "        clip_duration=clip_duration,  # 假设每个视频剪辑的时长为2秒\n",
    "        batch_size=batch_size,\n",
    "        num_workers=num_workers,\n",
    "        valid_split=0.2  \n",
    "    )\n",
    "\n",
    "    # Initialize the model checkpoint callback\n",
    "    checkpoint_callback = ModelCheckpoint(\n",
    "        dirpath='./checkpoints/', \n",
    "        filename='best-model',     \n",
    "        monitor='val_loss',        \n",
    "        mode='min',               \n",
    "        save_top_k=1,              \n",
    "        every_n_epochs=1          \n",
    "    )\n",
    "\n",
    "    # \n",
    "    trainer = pl.Trainer(\n",
    "        max_epochs=15, \n",
    "        profiler=\"simple\",  \n",
    "        callbacks=[checkpoint_callback] \n",
    "    )\n",
    "    \n",
    "    # train\n",
    "    trainer.fit(classification_module, data_module)\n",
    "    # valid\n",
    "    trainer.validate(model=classification_module, dataloaders=data_module.val_dataloader())\n",
    "\n",
    "    return trainer, classification_module\n",
    "\n",
    "\n",
    "\n"
   ],
   "metadata": {
    "collapsed": false,
    "ExecuteTime": {
     "end_time": "2023-12-17T08:58:41.368275400Z",
     "start_time": "2023-12-17T08:58:41.351276800Z"
    }
   },
   "id": "16fa1f03748db304"
  },
  {
   "cell_type": "markdown",
   "source": [
    "Train\n",
    "Since I trained the model later, the notebook cleared the output, so I ran to prove that it worked"
   ],
   "metadata": {
    "collapsed": false
   },
   "id": "88d5729be48d8b67"
  },
  {
   "cell_type": "code",
   "execution_count": 11,
   "outputs": [
    {
     "name": "stderr",
     "output_type": "stream",
     "text": [
      "Using cache found in C:\\Users\\Administrator/.cache\\torch\\hub\\facebookresearch_pytorchvideo_main\n",
      "GPU available: True (cuda), used: True\n",
      "TPU available: False, using: 0 TPU cores\n",
      "IPU available: False, using: 0 IPUs\n",
      "HPU available: False, using: 0 HPUs\n",
      "D:\\anaconda3\\envs\\dcai\\lib\\site-packages\\pytorch_lightning\\trainer\\connectors\\logger_connector\\logger_connector.py:67: Starting from v1.9.0, `tensorboardX` has been removed as a dependency of the `pytorch_lightning` package, due to potential conflicts with other packages in the ML ecosystem. For this reason, `logger=True` will use `CSVLogger` as the default logger, unless the `tensorboard` or `tensorboardX` packages are found. Please `pip install lightning[extra]` or one of them to enable TensorBoard support by default\n",
      "You are using a CUDA device ('NVIDIA GeForce RTX 4060 Ti') that has Tensor Cores. To properly utilize them, you should set `torch.set_float32_matmul_precision('medium' | 'high')` which will trade-off precision for performance. For more details, read https://pytorch.org/docs/stable/generated/torch.set_float32_matmul_precision.html#torch.set_float32_matmul_precision\n",
      "D:\\anaconda3\\envs\\dcai\\lib\\site-packages\\pytorch_lightning\\callbacks\\model_checkpoint.py:639: Checkpoint directory ./checkpoints/ exists and is not empty.\n",
      "LOCAL_RANK: 0 - CUDA_VISIBLE_DEVICES: [0]\n",
      "\n",
      "  | Name         | Type               | Params\n",
      "----------------------------------------------------\n",
      "0 | model        | Net                | 33.7 M\n",
      "1 | val_accuracy | MulticlassAccuracy | 0     \n",
      "----------------------------------------------------\n",
      "33.7 M    Trainable params\n",
      "0         Non-trainable params\n",
      "33.7 M    Total params\n",
      "134.716   Total estimated model params size (MB)\n"
     ]
    },
    {
     "data": {
      "text/plain": "Sanity Checking: |          | 0/? [00:00<?, ?it/s]",
      "application/vnd.jupyter.widget-view+json": {
       "version_major": 2,
       "version_minor": 0,
       "model_id": "ea986399c1794959afee2a068d56b38e"
      }
     },
     "metadata": {},
     "output_type": "display_data"
    },
    {
     "name": "stderr",
     "output_type": "stream",
     "text": [
      "D:\\anaconda3\\envs\\dcai\\lib\\site-packages\\pytorch_lightning\\trainer\\connectors\\data_connector.py:441: The 'val_dataloader' does not have many workers which may be a bottleneck. Consider increasing the value of the `num_workers` argument` to `num_workers=19` in the `DataLoader` to improve performance.\n",
      "D:\\anaconda3\\envs\\dcai\\lib\\site-packages\\pytorch_lightning\\utilities\\data.py:77: Trying to infer the `batch_size` from an ambiguous collection. The batch size we found is 8. To avoid any miscalculations, use `self.log(..., batch_size=batch_size)`.\n",
      "D:\\anaconda3\\envs\\dcai\\lib\\site-packages\\pytorch_lightning\\trainer\\connectors\\data_connector.py:441: The 'train_dataloader' does not have many workers which may be a bottleneck. Consider increasing the value of the `num_workers` argument` to `num_workers=19` in the `DataLoader` to improve performance.\n"
     ]
    },
    {
     "data": {
      "text/plain": "Training: |          | 0/? [00:00<?, ?it/s]",
      "application/vnd.jupyter.widget-view+json": {
       "version_major": 2,
       "version_minor": 0,
       "model_id": "c35c563943824354ae16eed325b4ff77"
      }
     },
     "metadata": {},
     "output_type": "display_data"
    },
    {
     "name": "stderr",
     "output_type": "stream",
     "text": [
      "D:\\anaconda3\\envs\\dcai\\lib\\site-packages\\pytorch_lightning\\trainer\\call.py:54: Detected KeyboardInterrupt, attempting graceful shutdown...\n",
      "LOCAL_RANK: 0 - CUDA_VISIBLE_DEVICES: [0]\n"
     ]
    },
    {
     "data": {
      "text/plain": "Validation: |          | 0/? [00:00<?, ?it/s]",
      "application/vnd.jupyter.widget-view+json": {
       "version_major": 2,
       "version_minor": 0,
       "model_id": "a9bce29656094641bcfdadaaf328bb9a"
      }
     },
     "metadata": {},
     "output_type": "display_data"
    }
   ],
   "source": [
    "trainer, model = train(\n",
    "    num_classes=15,  \n",
    "    data_path='../Data_Q3',  \n",
    "    train_folder='train_video',  \n",
    "    train_tag_file='train_tag.txt',  \n",
    "    batch_size=8,  \n",
    "    num_workers=0  \n",
    ")\n"
   ],
   "metadata": {
    "collapsed": false,
    "ExecuteTime": {
     "end_time": "2023-12-17T08:59:02.304009900Z",
     "start_time": "2023-12-17T08:58:42.648051200Z"
    }
   },
   "id": "102c79a1c039439f"
  },
  {
   "cell_type": "code",
   "execution_count": 11,
   "outputs": [],
   "source": [
    "# sabe\n",
    "model_path = \"model.pth\"\n",
    "torch.save(model.state_dict(), model_path)\n"
   ],
   "metadata": {
    "collapsed": false,
    "ExecuteTime": {
     "end_time": "2023-12-17T00:53:53.738624100Z",
     "start_time": "2023-12-17T00:53:53.644235700Z"
    }
   },
   "id": "df06ed497a28c4af"
  },
  {
   "cell_type": "code",
   "execution_count": 12,
   "outputs": [],
   "source": [
    "\n",
    "model_path = \"model_name.ckpt\"\n",
    "trainer.save_checkpoint(model_path)\n"
   ],
   "metadata": {
    "collapsed": false,
    "ExecuteTime": {
     "end_time": "2023-12-17T00:53:54.581905100Z",
     "start_time": "2023-12-17T00:53:53.738624100Z"
    }
   },
   "id": "9b95f52f34d64784"
  },
  {
   "cell_type": "markdown",
   "source": [
    "Valid"
   ],
   "metadata": {
    "collapsed": false
   },
   "id": "670f23d87309f475"
  },
  {
   "cell_type": "code",
   "execution_count": 19,
   "outputs": [
    {
     "name": "stderr",
     "output_type": "stream",
     "text": [
      "Using cache found in C:\\Users\\Administrator/.cache\\torch\\hub\\facebookresearch_pytorchvideo_main\n"
     ]
    },
    {
     "data": {
      "text/plain": "<All keys matched successfully>"
     },
     "execution_count": 19,
     "metadata": {},
     "output_type": "execute_result"
    }
   ],
   "source": [
    "# new\n",
    "new_model = VideoClassificationLightningModule(num_classes=num_classes)\n",
    "\n",
    "#load\n",
    "state_dict = torch.load(\"model.pth\")\n",
    "new_model.load_state_dict(state_dict)\n",
    "\n",
    "\n"
   ],
   "metadata": {
    "collapsed": false,
    "ExecuteTime": {
     "end_time": "2023-12-17T01:19:12.185985300Z",
     "start_time": "2023-12-17T01:19:10.151626300Z"
    }
   },
   "id": "5a54e7d9a9a43de3"
  },
  {
   "cell_type": "code",
   "execution_count": 23,
   "outputs": [
    {
     "name": "stderr",
     "output_type": "stream",
     "text": [
      "GPU available: True (cuda), used: True\n",
      "TPU available: False, using: 0 TPU cores\n",
      "IPU available: False, using: 0 IPUs\n",
      "HPU available: False, using: 0 HPUs\n",
      "You are using a CUDA device ('NVIDIA GeForce RTX 4060 Ti') that has Tensor Cores. To properly utilize them, you should set `torch.set_float32_matmul_precision('medium' | 'high')` which will trade-off precision for performance. For more details, read https://pytorch.org/docs/stable/generated/torch.set_float32_matmul_precision.html#torch.set_float32_matmul_precision\n",
      "LOCAL_RANK: 0 - CUDA_VISIBLE_DEVICES: [0]\n",
      "D:\\anaconda3\\envs\\dcai\\lib\\site-packages\\pytorch_lightning\\trainer\\connectors\\data_connector.py:441: The 'val_dataloader' does not have many workers which may be a bottleneck. Consider increasing the value of the `num_workers` argument` to `num_workers=19` in the `DataLoader` to improve performance.\n"
     ]
    },
    {
     "data": {
      "text/plain": "Validation: |          | 0/? [00:00<?, ?it/s]",
      "application/vnd.jupyter.widget-view+json": {
       "version_major": 2,
       "version_minor": 0,
       "model_id": "1660c25e043f4ee1a678235f822c0431"
      }
     },
     "metadata": {},
     "output_type": "display_data"
    },
    {
     "name": "stderr",
     "output_type": "stream",
     "text": [
      "D:\\anaconda3\\envs\\dcai\\lib\\site-packages\\pytorch_lightning\\utilities\\data.py:77: Trying to infer the `batch_size` from an ambiguous collection. The batch size we found is 8. To avoid any miscalculations, use `self.log(..., batch_size=batch_size)`.\n"
     ]
    },
    {
     "name": "stdout",
     "output_type": "stream",
     "text": [
      "────────────────────────────────────────────────────────────────────────────────────────────────────────────────────────\r\n",
      "     Validate metric           DataLoader 0\r\n",
      "────────────────────────────────────────────────────────────────────────────────────────────────────────────────────────\r\n",
      "         val_acc            0.06742557138204575\r\n",
      "        val_loss             2.741752862930298\r\n",
      "────────────────────────────────────────────────────────────────────────────────────────────────────────────────────────\n"
     ]
    },
    {
     "name": "stderr",
     "output_type": "stream",
     "text": [
      "D:\\anaconda3\\envs\\dcai\\lib\\site-packages\\pytorch_lightning\\utilities\\data.py:77: Trying to infer the `batch_size` from an ambiguous collection. The batch size we found is 4. To avoid any miscalculations, use `self.log(..., batch_size=batch_size)`.\n"
     ]
    },
    {
     "data": {
      "text/plain": "[{'val_loss': 2.741752862930298, 'val_acc': 0.06742557138204575}]"
     },
     "execution_count": 23,
     "metadata": {},
     "output_type": "execute_result"
    }
   ],
   "source": [
    "data_module = CustomVideoDataModule(\n",
    "    data_path='../Data_Q3',\n",
    "    train_folder='train_video',\n",
    "    train_tag_file='train_tag.txt',\n",
    "    clip_duration=clip_duration,  \n",
    "    batch_size=8,\n",
    "    num_workers=0,\n",
    "    valid_split=0.2\n",
    ")\n",
    "data_module.setup(stage='fit')\n",
    "\n",
    " # new trainer\n",
    "trainer = pl.Trainer()\n",
    "\n",
    "trainer.validate(model=model, dataloaders=data_module.val_dataloader())"
   ],
   "metadata": {
    "collapsed": false,
    "ExecuteTime": {
     "end_time": "2023-12-17T01:35:38.290399900Z",
     "start_time": "2023-12-17T01:24:16.949052900Z"
    }
   },
   "id": "2bf09259f17513e1"
  },
  {
   "cell_type": "markdown",
   "source": [
    "This result above is because I rewrote the trainer before and failed to import the model. I used the original model without training."
   ],
   "metadata": {
    "collapsed": false
   },
   "id": "a16673510d38e194"
  },
  {
   "cell_type": "markdown",
   "source": [
    "Correctly import models that you have trained several times before and continue training"
   ],
   "metadata": {
    "collapsed": false
   },
   "id": "4ed694406a3e7166"
  },
  {
   "cell_type": "code",
   "execution_count": null,
   "outputs": [
    {
     "name": "stderr",
     "output_type": "stream",
     "text": [
      "Using cache found in C:\\Users\\Administrator/.cache\\torch\\hub\\facebookresearch_pytorchvideo_main\n",
      "GPU available: True (cuda), used: True\n",
      "TPU available: False, using: 0 TPU cores\n",
      "IPU available: False, using: 0 IPUs\n",
      "HPU available: False, using: 0 HPUs\n",
      "D:\\anaconda3\\envs\\dcai\\lib\\site-packages\\pytorch_lightning\\callbacks\\model_checkpoint.py:639: Checkpoint directory ./checkpoints/ exists and is not empty.\n",
      "LOCAL_RANK: 0 - CUDA_VISIBLE_DEVICES: [0]\n",
      "\n",
      "  | Name         | Type               | Params\n",
      "----------------------------------------------------\n",
      "0 | model        | Net                | 33.7 M\n",
      "1 | val_accuracy | MulticlassAccuracy | 0     \n",
      "----------------------------------------------------\n",
      "33.7 M    Trainable params\n",
      "0         Non-trainable params\n",
      "33.7 M    Total params\n",
      "134.716   Total estimated model params size (MB)\n"
     ]
    },
    {
     "data": {
      "text/plain": "Sanity Checking: |          | 0/? [00:00<?, ?it/s]",
      "application/vnd.jupyter.widget-view+json": {
       "version_major": 2,
       "version_minor": 0,
       "model_id": "89139f419d314fa798d7a65c1b86f9ef"
      }
     },
     "metadata": {},
     "output_type": "display_data"
    },
    {
     "name": "stderr",
     "output_type": "stream",
     "text": [
      "D:\\anaconda3\\envs\\dcai\\lib\\site-packages\\pytorch_lightning\\trainer\\connectors\\data_connector.py:441: The 'val_dataloader' does not have many workers which may be a bottleneck. Consider increasing the value of the `num_workers` argument` to `num_workers=19` in the `DataLoader` to improve performance.\n",
      "D:\\anaconda3\\envs\\dcai\\lib\\site-packages\\pytorch_lightning\\trainer\\connectors\\data_connector.py:441: The 'train_dataloader' does not have many workers which may be a bottleneck. Consider increasing the value of the `num_workers` argument` to `num_workers=19` in the `DataLoader` to improve performance.\n"
     ]
    },
    {
     "data": {
      "text/plain": "Training: |          | 0/? [00:00<?, ?it/s]",
      "application/vnd.jupyter.widget-view+json": {
       "version_major": 2,
       "version_minor": 0,
       "model_id": "a17cbcc404904063aaf0c06f5c0a2714"
      }
     },
     "metadata": {},
     "output_type": "display_data"
    },
    {
     "data": {
      "text/plain": "Validation: |          | 0/? [00:00<?, ?it/s]",
      "application/vnd.jupyter.widget-view+json": {
       "version_major": 2,
       "version_minor": 0,
       "model_id": "d5533ce30a144960b7c8df7f398cfc36"
      }
     },
     "metadata": {},
     "output_type": "display_data"
    },
    {
     "data": {
      "text/plain": "Validation: |          | 0/? [00:00<?, ?it/s]",
      "application/vnd.jupyter.widget-view+json": {
       "version_major": 2,
       "version_minor": 0,
       "model_id": "1219de77c10c4e00aeaf855bb475d069"
      }
     },
     "metadata": {},
     "output_type": "display_data"
    },
    {
     "data": {
      "text/plain": "Validation: |          | 0/? [00:00<?, ?it/s]",
      "application/vnd.jupyter.widget-view+json": {
       "version_major": 2,
       "version_minor": 0,
       "model_id": "a5c3d34a51714c8da37e0b93abcf27c4"
      }
     },
     "metadata": {},
     "output_type": "display_data"
    }
   ],
   "source": [
    "import torch\n",
    "import pytorch_lightning as pl\n",
    "from pytorch_lightning.callbacks import ModelCheckpoint\n",
    "\n",
    "def train_from_checkpoint(num_classes, data_path, train_folder, train_tag_file, batch_size, num_workers, checkpoint_path):\n",
    "    new_model = VideoClassificationLightningModule(num_classes=num_classes)\n",
    "\n",
    "    state_dict = torch.load(checkpoint_path)\n",
    "    new_model.load_state_dict(state_dict)\n",
    "\n",
    "    data_module = CustomVideoDataModule(\n",
    "        data_path=data_path,\n",
    "        train_folder=train_folder,\n",
    "        train_tag_file=train_tag_file,\n",
    "        clip_duration=2,  \n",
    "        batch_size=batch_size,\n",
    "        num_workers=num_workers,\n",
    "        valid_split=0.2  \n",
    "    )\n",
    "\n",
    "    checkpoint_callback = ModelCheckpoint(\n",
    "        dirpath='./checkpoints/',\n",
    "        filename='best-model',\n",
    "        monitor='val_loss',\n",
    "        mode='min',\n",
    "        save_top_k=1,\n",
    "        every_n_epochs=1\n",
    "    )\n",
    "\n",
    "    trainer = pl.Trainer(\n",
    "        max_epochs=15,\n",
    "        profiler=\"simple\",\n",
    "        callbacks=[checkpoint_callback]\n",
    "    )\n",
    "    \n",
    "    # continue training\n",
    "    trainer.fit(new_model, data_module)\n",
    "    trainer.validate(model=new_model, dataloaders=data_module.val_dataloader())\n",
    "\n",
    "    return trainer, new_model\n",
    "\n",
    "\n",
    "checkpoint_path = \"model_new.pth\"\n",
    "trainer, new_model = train_from_checkpoint(\n",
    "    num_classes=15,\n",
    "    data_path='../Data_Q3',\n",
    "    train_folder='train_video',\n",
    "    train_tag_file='train_tag.txt',\n",
    "    batch_size=8,\n",
    "    num_workers=0,\n",
    "    checkpoint_path= \"model.pth\"\n",
    ")\n"
   ],
   "metadata": {
    "collapsed": false,
    "ExecuteTime": {
     "start_time": "2023-12-17T03:36:38.024226900Z"
    }
   },
   "id": "87f7789dc77c40fd"
  },
  {
   "cell_type": "markdown",
   "source": [
    "save model"
   ],
   "metadata": {
    "collapsed": false
   },
   "id": "ef261ffd9fca3987"
  },
  {
   "cell_type": "code",
   "execution_count": 26,
   "outputs": [],
   "source": [
    "model_path = \"modelnew.pth\"\n",
    "torch.save(new_model.state_dict(), model_path)\n"
   ],
   "metadata": {
    "collapsed": false,
    "ExecuteTime": {
     "end_time": "2023-12-17T03:14:11.163613600Z",
     "start_time": "2023-12-17T03:14:11.074967800Z"
    }
   },
   "id": "ce97ebe63fe87161"
  },
  {
   "cell_type": "code",
   "execution_count": 27,
   "outputs": [],
   "source": [
    "model_path = \"model_new.ckpt\"\n",
    "trainer.save_checkpoint(model_path)\n"
   ],
   "metadata": {
    "collapsed": false,
    "ExecuteTime": {
     "end_time": "2023-12-17T03:14:44.701179100Z",
     "start_time": "2023-12-17T03:14:43.762747500Z"
    }
   },
   "id": "947731ed471b9807"
  },
  {
   "cell_type": "markdown",
   "source": [
    "predict refers to   https://pytorch.org/hub/facebookresearch_pytorchvideo_slowfast/"
   ],
   "metadata": {
    "collapsed": false
   },
   "id": "d7d331d1c4db4e5d"
  },
  {
   "cell_type": "code",
   "execution_count": 44,
   "outputs": [
    {
     "name": "stdout",
     "output_type": "stream",
     "text": [
      "Predicted class: 0\n"
     ]
    }
   ],
   "source": [
    "import urllib\n",
    "from pytorchvideo.data.encoded_video import EncodedVideo\n",
    "import torch\n",
    "import torch.nn.functional as F\n",
    "\n",
    "# filepath\n",
    "video_path = '../Data_Q3/test_video/5258353.mp4'\n",
    "device = torch.device(\"cuda\" if torch.cuda.is_available() else \"cpu\")\n",
    "\n",
    "video = EncodedVideo.from_path(video_path)\n",
    "\n",
    "start_sec = 0\n",
    "end_sec = start_sec + clip_duration \n",
    "\n",
    "video_data = video.get_clip(start_sec=start_sec, end_sec=end_sec)\n",
    "\n",
    "video_data = transform(video_data)\n",
    "\n",
    "inputs = video_data[\"video\"]\n",
    "inputs = [i.to(device)[None, ...] for i in inputs]\n",
    "\n",
    "new_model.to(device)\n",
    "new_model.eval()\n",
    "with torch.no_grad():\n",
    "    preds = new_model(inputs)\n",
    "\n",
    "# top1\n",
    "pred_classes = preds.argmax(dim=1)\n",
    "print(\"Predicted class: %s\" % pred_classes.item())\n"
   ],
   "metadata": {
    "collapsed": false,
    "ExecuteTime": {
     "end_time": "2023-12-17T03:27:26.776826200Z",
     "start_time": "2023-12-17T03:27:26.542197400Z"
    }
   },
   "id": "fc9d234e1ba34653"
  },
  {
   "cell_type": "code",
   "execution_count": 45,
   "outputs": [],
   "source": [
    "import os\n",
    "import pandas as pd\n",
    "from pytorchvideo.data.encoded_video import EncodedVideo\n",
    "import torch\n",
    "\n",
    "test_video_folder = '../Data_Q3/test_video'\n",
    "device = torch.device(\"cuda\" if torch.cuda.is_available() else \"cpu\")\n",
    "\n",
    "new_model.to(device)\n",
    "new_model.eval()\n",
    "\n",
    "predictions = []\n",
    "\n",
    "# Walk through all the videos in the test video folder\n",
    "for file_name in os.listdir(test_video_folder):\n",
    "    video_path = os.path.join(test_video_folder, file_name)\n",
    "\n",
    "    # load\n",
    "    video = EncodedVideo.from_path(video_path)\n",
    "\n",
    "    # Extract video footage\n",
    "    video_data = video.get_clip(start_sec=0, end_sec=clip_duration)  \n",
    "\n",
    "    # transform\n",
    "    video_data = transform(video_data)\n",
    "\n",
    "    inputs = video_data[\"video\"]\n",
    "    inputs = [i.to(device)[None, ...] for i in inputs]\n",
    "\n",
    "    # predict\n",
    "    with torch.no_grad():\n",
    "        preds = new_model(inputs)\n",
    "\n",
    "    # top1\n",
    "    pred_class = preds.argmax(dim=1).item()\n",
    "    predictions.append([file_name, pred_class])\n",
    "\n",
    "df = pd.DataFrame(predictions, columns=['file_name', 'label'])\n",
    "df.to_csv('Q3_output.csv', index=False)\n"
   ],
   "metadata": {
    "collapsed": false,
    "ExecuteTime": {
     "end_time": "2023-12-17T03:32:46.137898100Z",
     "start_time": "2023-12-17T03:29:49.992361900Z"
    }
   },
   "id": "5b9be039d801f198"
  }
 ],
 "metadata": {
  "kernelspec": {
   "display_name": "Python 3",
   "language": "python",
   "name": "python3"
  },
  "language_info": {
   "codemirror_mode": {
    "name": "ipython",
    "version": 2
   },
   "file_extension": ".py",
   "mimetype": "text/x-python",
   "name": "python",
   "nbconvert_exporter": "python",
   "pygments_lexer": "ipython2",
   "version": "2.7.6"
  }
 },
 "nbformat": 4,
 "nbformat_minor": 5
}
